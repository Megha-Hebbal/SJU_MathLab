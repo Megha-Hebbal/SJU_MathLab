{
  "metadata": {
    "kernelspec": {
      "name": "python",
      "display_name": "Python (Pyodide)",
      "language": "python"
    },
    "language_info": {
      "codemirror_mode": {
        "name": "python",
        "version": 3
      },
      "file_extension": ".py",
      "mimetype": "text/x-python",
      "name": "python",
      "nbconvert_exporter": "python",
      "pygments_lexer": "ipython3",
      "version": "3.8"
    },
    "colab": {
      "provenance": []
    }
  },
  "nbformat_minor": 0,
  "nbformat": 4,
  "cells": [
    {
      "cell_type": "code",
      "source": [
        "from sympy import *\n",
        "from sympy.abc import x,k"
      ],
      "metadata": {
        "trusted": true,
        "id": "vve7OzNg01EM"
      },
      "outputs": [],
      "execution_count": null
    },
    {
      "cell_type": "markdown",
      "source": [
        "#**Experiment-1**\n",
        "#### To check if a given ring is a commutative ring with unity."
      ],
      "metadata": {
        "id": "-IuW3Er301ES"
      }
    },
    {
      "cell_type": "markdown",
      "source": [
        "Example: Verify whether $(\\mathbb{Z}_{6},\\oplus_{6},\\otimes_{6})$ is a commutative ring with unity."
      ],
      "metadata": {
        "id": "IYGqzZDC22Zc"
      }
    },
    {
      "cell_type": "code",
      "source": [
        "def commutative(R,n):\n",
        "    for i in R:\n",
        "        for j in R:\n",
        "            if (i*j)%n == (j*i)%n:\n",
        "                pass\n",
        "            else:\n",
        "                print(R,\"is not a commutative ring\")\n",
        "                break\n",
        "    print(R,\"is a commutative ring\")\n",
        "\n",
        "commutative([0,1,2,3,4,5],6)\n",
        "\n",
        "def identity(R,n):\n",
        "    R.remove(0)\n",
        "    u=[x for x in R for y in R if (x*y)%n == y and (y*x)%n == y]\n",
        "    if len(u)!=0:\n",
        "        unity=[x for x in R if u.count(x) ==  len(R)][0]\n",
        "        print(\"The unity is\",unity)\n",
        "        return unity\n",
        "    else:\n",
        "        print(R,\"has no unity\")\n",
        "\n",
        "identity([0,1,2,3,4,5],6)"
      ],
      "metadata": {
        "trusted": true,
        "id": "60cCidE501EU",
        "outputId": "e2e4923e-b56b-4312-bd0d-3bd1a890ebfc"
      },
      "outputs": [
        {
          "name": "stdout",
          "text": "[0, 1, 2, 3, 4, 5] is a commutative ring\nThe unity is 1\n",
          "output_type": "stream"
        },
        {
          "execution_count": 2,
          "output_type": "execute_result",
          "data": {
            "text/plain": "1"
          },
          "metadata": {}
        }
      ],
      "execution_count": null
    },
    {
      "cell_type": "markdown",
      "source": [
        "#**Experiment-2**\n",
        "#### To check if a given ring is an integral domain or field."
      ],
      "metadata": {
        "id": "33RmpTKl01EW"
      }
    },
    {
      "cell_type": "markdown",
      "source": [
        "Example: Verify whether the commutative ring with unity $(\\mathbb{Z}_{5},\\oplus_{5},\\otimes_{5})$ is an integral domain/field. List out all zero divisors and multiplicative inverses of all elements (if they exist)"
      ],
      "metadata": {
        "id": "qSnNBc1Q3zcI"
      }
    },
    {
      "cell_type": "code",
      "source": [
        "def zero_divisors(R,n):\n",
        "    R.remove(0)\n",
        "    zerodivisors=[x for x in R for y in R if (x*y)%n == 0]\n",
        "    if len(zerodivisors) != 0:\n",
        "        print(R,\"is not an integral domain and the zero divisors are\",set(zerodivisors))\n",
        "    else:\n",
        "        print(R,\"is an integral domain\")\n",
        "\n",
        "zero_divisors([0,1,2,3,4],5)\n",
        "\n",
        "def field(R,n):\n",
        "    e=identity(R,n)\n",
        "    if e is not None:\n",
        "        I=[x for x in R for y in R if (x*y)%n == e]\n",
        "        if len(I) == len(R):\n",
        "            print(R,\"is a field\")\n",
        "        else:\n",
        "            print(R,\"is not a field\")\n",
        "    else:\n",
        "        print(R,\"is a ring without unity\")\n",
        "    for x in R:\n",
        "        flag=False\n",
        "        for y in R:\n",
        "            if (x*y)%n == e and (y*x)%n == e:\n",
        "                flag=True\n",
        "                print(\"The inverse of\",x,\"is\",y)\n",
        "                break\n",
        "        if flag == False:\n",
        "            print(\"The element\",x,\"has no inverse\")\n",
        "\n",
        "field([0,1,2,3,4],5)"
      ],
      "metadata": {
        "trusted": true,
        "id": "BuRD_cQb01EW",
        "outputId": "ea814dd2-99cc-4cbf-f4cc-33980a56c3b8"
      },
      "outputs": [
        {
          "name": "stdout",
          "text": "[1, 2, 3, 4] is an integral domain\nThe unity is 1\n[1, 2, 3, 4] is a field\nThe inverse of 1 is 1\nThe inverse of 2 is 3\nThe inverse of 3 is 2\nThe inverse of 4 is 4\n",
          "output_type": "stream"
        }
      ],
      "execution_count": null
    },
    {
      "cell_type": "markdown",
      "source": [
        "#**Experiment-3**\n",
        "#### To check if a given subset is a subring or an ideal."
      ],
      "metadata": {
        "id": "eHa5I7nl01EX"
      }
    },
    {
      "cell_type": "markdown",
      "source": [
        "Example: Check whether the subset $S=\\{0,2,4\\}$ is a subring or an ideal of the ring $R=(\\mathbb{Z}_{6},\\oplus_{6},\\otimes_{6})$"
      ],
      "metadata": {
        "id": "xDJYWuO44jFS"
      }
    },
    {
      "cell_type": "code",
      "source": [
        "def subring_and_ideal(R,S,n):\n",
        "    flag1=True\n",
        "    for i in R:\n",
        "        for j in R:\n",
        "            if (i+j)%n not in R or (i*j)%n not in R:\n",
        "                flag1=False\n",
        "            else:\n",
        "                pass\n",
        "    if flag1==True:\n",
        "        flag2=True\n",
        "        for i in R:\n",
        "            for j in S:\n",
        "                if (i*j)%n not in S:\n",
        "                    flag2==False\n",
        "                else:\n",
        "                    pass\n",
        "        if flag2==True:\n",
        "            print(S,\"is a subring and ideal of\",R)\n",
        "        else:\n",
        "            print(S,\"is a subring of\",R,\"but not an ideal\")\n",
        "    else:\n",
        "        print(S,\"is not a subring of\",R,\"and hence not an ideal\")\n",
        "\n",
        "subring_and_ideal([0,1,2,3,4,5],[0,2,4],6)"
      ],
      "metadata": {
        "trusted": true,
        "id": "VRMs9Jkt01EY",
        "outputId": "8bef8dec-154f-4267-ccb7-6f8204a0cf14"
      },
      "outputs": [
        {
          "name": "stdout",
          "text": "[0, 2, 4] is a subring and ideal of [0, 1, 2, 3, 4, 5]\n",
          "output_type": "stream"
        }
      ],
      "execution_count": null
    },
    {
      "cell_type": "markdown",
      "source": [
        "#**Experiment-4**\n",
        "#### To check if a given ideal is a prime ideal."
      ],
      "metadata": {
        "id": "upKoKMTd01EZ"
      }
    },
    {
      "cell_type": "markdown",
      "source": [
        "Example: Check whether the ideal $S=\\{0,2,4\\}$ is a prime ideal of the ring $R=(\\mathbb{Z}_{6},\\oplus_{6},\\otimes_{6})$"
      ],
      "metadata": {
        "id": "VOmziSq35HY-"
      }
    },
    {
      "cell_type": "code",
      "source": [
        "def prime_ideal(R,S,n):\n",
        "    flag=True\n",
        "    if R!=S:\n",
        "        for i in R:\n",
        "            for j in R:\n",
        "                if (i*j)%n in S:\n",
        "                    if i not in S and j not in S:\n",
        "                        flag=False\n",
        "                        break\n",
        "                    else:\n",
        "                        pass\n",
        "        if flag == True:\n",
        "            print(S,\"is a prime ideal of\",R)\n",
        "        else:\n",
        "            print(S,\"is not a prime ideal of\",R)\n",
        "    else:\n",
        "        print(S,\"is not a proper subset\")\n",
        "\n",
        "prime_ideal([0,1,2,3,4,5],[0,2,4],6)"
      ],
      "metadata": {
        "trusted": true,
        "id": "fhpmyire01Ea",
        "outputId": "0975472b-6430-493a-cf1a-07e7b2094966"
      },
      "outputs": [
        {
          "name": "stdout",
          "text": "[0, 2, 4] is a prime ideal of [0, 1, 2, 3, 4, 5]\n",
          "output_type": "stream"
        }
      ],
      "execution_count": null
    },
    {
      "cell_type": "markdown",
      "source": [
        "#**Experiment-5**\n",
        "#### To check if a function is a ring homomorphism and to find its kernel and image."
      ],
      "metadata": {
        "id": "jwlg3Qod01Ea"
      }
    },
    {
      "cell_type": "markdown",
      "source": [
        "Example: Check whether the function $f:(\\mathbb{Z}_{4},\\oplus_{4},\\otimes_{4}) → (\\mathbb{Z}_{10},\\oplus_{10},\\otimes_{10})$ defined by $f(x)=5x(mod10)$ is a ring homomorphism."
      ],
      "metadata": {
        "id": "dceX7yPb6Pau"
      }
    },
    {
      "cell_type": "code",
      "source": [
        "def homomorphism(R,n,m):\n",
        "    flag=[False for x in R for y in R if f(x*y)%n!=(f(x)*f(y))%m or f(x+y)%n!=(f(x)+f(y))%m]\n",
        "    if flag:\n",
        "        kernel={x for x in R if f(x)%n == 0}\n",
        "        image={f(x) for x in R}\n",
        "        print(\"The mapping f(x)=\",f(x),\"is a homomorphism\")\n",
        "        print(\"The kernel is\",kernel)\n",
        "        print(\"The image is\",image)\n",
        "    else:\n",
        "        print(\"The mapping f(x)=\",f(x),\"is not a homomorphism\")\n",
        "\n",
        "def f(x):\n",
        "    return (5*x)%10\n",
        "\n",
        "homomorphism({0,1,2,3},4,10)"
      ],
      "metadata": {
        "trusted": true,
        "id": "SOgHtmUO01Eb",
        "outputId": "19308381-f1da-48f1-faa9-e3d07a324f8d"
      },
      "outputs": [
        {
          "name": "stdout",
          "text": "The mapping f(x)= 5*(Mod(x, 2)) is a homomorphism\nThe kernel is {0, 2}\nThe image is {0, 5}\n",
          "output_type": "stream"
        }
      ],
      "execution_count": null
    },
    {
      "cell_type": "markdown",
      "source": [
        "#**Experiment-6**\n",
        "#### To check if a ring homomorphism is an isomorphism."
      ],
      "metadata": {
        "id": "2CUdizVz01Eb"
      }
    },
    {
      "cell_type": "markdown",
      "source": [
        "Example: Check whether the function $f:\\mathbb{Z}_{6} → \\mathbb{Z}_{6}$ defined by $f(x)=3x(mod6)$"
      ],
      "metadata": {
        "id": "s9GUwpiS5xjm"
      }
    },
    {
      "cell_type": "code",
      "source": [
        "def isomorphism(R,S,n,m):\n",
        "    flag=[False for x in R for y in R if f(x*y)%n!=(f(x)*f(y))%m or f(x+y)%n!=(f(x)+f(y))%m]\n",
        "    if flag==[]:\n",
        "        kernel={x for x in R if f(x) == 0}\n",
        "        image={f(x) for x in R}\n",
        "        if kernel == {0} and image == S:\n",
        "            print(\"The mapping f(x)=\",f(x),\"is an isomorphism\")\n",
        "        else:\n",
        "            print(\"The mapping f(x)=\",f(x),\"is not an isomorphism\")\n",
        "    else:\n",
        "        print(\"The mapping f(x)=\",f(x),\"is not a homomorphism\")\n",
        "\n",
        "def f(x):\n",
        "    return (3*x)%6\n",
        "\n",
        "isomorphism([0,1,2,3,4,5],[0,1,2,3,4,5],6,6)"
      ],
      "metadata": {
        "trusted": true,
        "id": "yEFWr1fg01Eb",
        "outputId": "561b192c-0de9-4f60-cc42-b18b3e5c3b42"
      },
      "outputs": [
        {
          "name": "stdout",
          "text": "The mapping f(x)= 3*(Mod(x, 2)) is not an isomorphism\n",
          "output_type": "stream"
        }
      ],
      "execution_count": null
    },
    {
      "cell_type": "markdown",
      "source": [
        "#**Experiment-7**\n",
        "#### Euler’s equation and its particular forms."
      ],
      "metadata": {
        "id": "shEkDxi701Ec"
      }
    },
    {
      "cell_type": "markdown",
      "source": [
        "Example: Find the extremal of the variational problem $I(y)=\\int \\sqrt{y(1+(y')^{2})} dx$"
      ],
      "metadata": {
        "id": "iAdtKrQ76ys1"
      }
    },
    {
      "cell_type": "code",
      "source": [
        "y=Function('y')\n",
        "y1=y(x).diff(x)\n",
        "F=(y(x)*(1+y1**2))**(1/2)\n",
        "eq=F-y1*diff(F,y1)-k\n",
        "sol=dsolve(eq,y(x))\n",
        "print(\"The extrema is\",sol[2].rhs)"
      ],
      "metadata": {
        "trusted": true,
        "id": "9WW7JCtc01Ec",
        "outputId": "31535d98-47d3-497a-a559-1428f1c65318"
      },
      "outputs": [
        {
          "name": "stdout",
          "text": "The extrema is 0.25*C1**2/k**2 - 0.5*C1*x/k**2 + k**2 + 0.25*x**2/k**2\n",
          "output_type": "stream"
        }
      ],
      "execution_count": null
    },
    {
      "cell_type": "markdown",
      "source": [
        "#**Experiment-8**\n",
        "#### Brachistochrone problem"
      ],
      "metadata": {
        "id": "u5A389ex01Ec"
      }
    },
    {
      "cell_type": "code",
      "source": [
        "c,t=symbols('c,t',positive=True)\n",
        "dy=symbols('dy')\n",
        "y=Function('y')\n",
        "y1=diff(y(x),x)\n",
        "F=sqrt((1+y1**2)/(y(x)))\n",
        "DE=Eq(simplify(F-y1*diff(F,y1)),1/sqrt(c))\n",
        "sol=solve(DE,y1)[1].simplify()\n",
        "Y=c*sin(t)**2\n",
        "eq=(1/sol).subs(y(x),Y)\n",
        "dy=diff((c*sin(t)**2),t)\n",
        "f=eq*dy\n",
        "f=sqrt(simplify(f**2))\n",
        "X=integrate(f,t).simplify()\n",
        "print(\"The solution to the brachistocrone problem is x=\",X,\"y=\",Y)\n",
        "print(\"This represents the equation of cycloid\")"
      ],
      "metadata": {
        "trusted": true,
        "id": "4auhY0R201Ed",
        "outputId": "9be55dcf-10f3-4a29-9258-c6c52f3fa2db"
      },
      "outputs": [
        {
          "name": "stdout",
          "text": "The solution to the brachistocrone problem is x= c*(t - sin(2*t)/2) y= c*sin(t)**2\nThis represents the equation of cycloid\n",
          "output_type": "stream"
        }
      ],
      "execution_count": null
    },
    {
      "cell_type": "markdown",
      "source": [
        "#**Experiment-9**\n",
        "#### Minimum surface of revolution and hanging chain problem."
      ],
      "metadata": {
        "id": "_M8UUb0H01Ed"
      }
    },
    {
      "cell_type": "code",
      "source": [
        "x = symbols('x')\n",
        "c = symbols('c', positive=True)\n",
        "y = Function('y')(x)\n",
        "y1 = diff(y, x)\n",
        "F = y * sqrt(1 + y1**2)\n",
        "Eulereq = Eq(F - y1 * diff(F, y1), c)\n",
        "sol = dsolve(Eulereq, y)\n",
        "extremal = sol.rhs.simplify()\n",
        "print(\"The solution to both the minimum surface of revolution and hanging chain problem is y =\", extremal)\n",
        "print(\"This represents the equation of catenary\")"
      ],
      "metadata": {
        "trusted": true,
        "id": "T4XkUFmZ01Ed",
        "outputId": "672c308c-dc65-420d-dc96-21a1a7327bef"
      },
      "outputs": [
        {
          "name": "stdout",
          "text": "The solution to both the minimum surface of revolution and hanging chain problem is y = c**2*exp((-C1*c + x)/c) + exp((C1*c - x)/c)/4\nThis represents the equation of catenary\n",
          "output_type": "stream"
        }
      ],
      "execution_count": null
    }
  ]
}