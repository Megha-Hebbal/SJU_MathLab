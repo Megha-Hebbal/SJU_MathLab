{
  "metadata": {
    "kernelspec": {
      "name": "python",
      "display_name": "Python (Pyodide)",
      "language": "python"
    },
    "language_info": {
      "codemirror_mode": {
        "name": "python",
        "version": 3
      },
      "file_extension": ".py",
      "mimetype": "text/x-python",
      "name": "python",
      "nbconvert_exporter": "python",
      "pygments_lexer": "ipython3",
      "version": "3.8"
    },
    "colab": {
      "provenance": []
    }
  },
  "nbformat_minor": 0,
  "nbformat": 4,
  "cells": [
    {
      "cell_type": "code",
      "source": [
        "from sympy import *\n",
        "from sympy.abc import x,y,z,r,theta,phi,i,j,k,z"
      ],
      "metadata": {
        "trusted": true,
        "id": "LErhcsWg8lfx"
      },
      "outputs": [],
      "execution_count": 2
    },
    {
      "cell_type": "markdown",
      "source": [
        "# **Experiment-1**\n",
        "#### Problems on Cauchy-Riemann equations in cartesian and polar form."
      ],
      "metadata": {
        "id": "M3VJpqj98lf3"
      }
    },
    {
      "cell_type": "markdown",
      "source": [
        "Example: Check whether the functions $f(z)=e^{y}\\cos(x)+ie^{y}\\sin(x)$ and $f(z)=\\log(r)+iθ$ are analytic"
      ],
      "metadata": {
        "id": "KvFHtLNf9eiF"
      }
    },
    {
      "cell_type": "code",
      "source": [
        "def CR_cartesian(u,v):\n",
        "    ux=u.diff(x).simplify()\n",
        "    uy=u.diff(y).simplify()\n",
        "    vx=v.diff(x).simplify()\n",
        "    vy=v.diff(y).simplify()\n",
        "    if ux == vy and uv == -vx:\n",
        "        print(\"The Cauchy-Riemann equation is satisifed\")\n",
        "    else:\n",
        "        print(\"The Cauchy-Riemann equation is not satisfied\")\n",
        "\n",
        "CR_cartesian(exp(y)*cos(x),exp(y)*sin(x))\n",
        "\n",
        "def CR_polar(u,v):\n",
        "    ur=u.diff(r).simplify()\n",
        "    ut=u.diff(theta).simplify()\n",
        "    vr=v.diff(r).simplify()\n",
        "    vt=v.diff(theta).simplify()\n",
        "    if ur == (vt/r).simplify() and ut == (-r*vr).simplify():\n",
        "        print(\"The Cauchy-Riemann equation is satisifed\")\n",
        "    else:\n",
        "        print(\"The Cauchy-Riemann equation is not satisifed\")\n",
        "\n",
        "CR_polar(log(r),theta)"
      ],
      "metadata": {
        "trusted": true,
        "id": "dPporv1o8lgA",
        "outputId": "cdc42115-8f50-4baa-be80-7276c4709ca1"
      },
      "outputs": [
        {
          "name": "stdout",
          "text": "The Cauchy-Riemann equation is not satisfied\nThe Cauchy-Riemann equation is satisifed\n",
          "output_type": "stream"
        }
      ],
      "execution_count": null
    },
    {
      "cell_type": "markdown",
      "source": [
        "# **Experiment-2**\n",
        "#### Constructing Analytic function using Milne Thomson method."
      ],
      "metadata": {
        "id": "17AY5FoM8lgC"
      }
    },
    {
      "cell_type": "markdown",
      "source": [
        "Example: Construct the analytic funtions when $u=xe^{x}\\cos(y) - ye^{x}\\sin(y)$ and $u=r\\cos(\\theta) + \\cos(\\theta)/r$ using Milne Thomson method"
      ],
      "metadata": {
        "id": "JMpa6O0_-YBu"
      }
    },
    {
      "cell_type": "code",
      "source": [
        "def analytic_function_cartesian(u):\n",
        "    ux=u.diff(x).simplify()\n",
        "    uy=u.diff(y).simplify()\n",
        "    eq=ux-i*uy\n",
        "    eq=eq.subs(x,z).subs(y,0)\n",
        "    print(\"The analytic function reconstructed from\",u,\"using Milne Thomson method is\",integrate(eq,z))\n",
        "\n",
        "analytic_function_cartesian(exp(x)*x*cos(y)-exp(x)*y*sin(y))\n",
        "\n",
        "def analytic_function_polar(u):\n",
        "    ur=(u.diff(r)*exp(-i*theta)).simplify()\n",
        "    ut=(u.diff(theta)*exp(-i*theta)).simplify()\n",
        "    eq=ur-i*ut\n",
        "    eq=eq.subs(r,z).subs(theta,0)\n",
        "    print(\"The analytic function reconstructed from\",u,\"using Milne Thomson method is\",integrate(eq,z))\n",
        "\n",
        "analytic_function_polar(cos(theta)*r+cos(theta)/r)"
      ],
      "metadata": {
        "trusted": true,
        "id": "6s81jOKN8lgD",
        "outputId": "81364ee9-de98-4cdf-ce58-b58db2e9d794"
      },
      "outputs": [
        {
          "name": "stdout",
          "text": "The analytic function reconstructed from x*exp(x)*cos(y) - y*exp(x)*sin(y) using Milne Thomson method is z*exp(z)\nThe analytic function reconstructed from r*cos(theta) + cos(theta)/r using Milne Thomson method is z + 1/z\n",
          "output_type": "stream"
        }
      ],
      "execution_count": null
    },
    {
      "cell_type": "markdown",
      "source": [
        "# **Experiment-3**\n",
        "#### Verifying that the real and imaginary parts of a complex function are orthogonal."
      ],
      "metadata": {
        "id": "Hb2d7qCE8lgD"
      }
    },
    {
      "cell_type": "markdown",
      "source": [
        "Example: Verify whether the real and imaginary parts of $f(z)=e^{z}$ are orthogonal"
      ],
      "metadata": {
        "id": "G9A8p4Oz_cHh"
      }
    },
    {
      "cell_type": "code",
      "source": [
        "def orthogonal(u,v):\n",
        "    ux=u.diff(x).simplify()\n",
        "    uy=u.diff(y).simplify()\n",
        "    vx=v.diff(x).simplify()\n",
        "    vy=v.diff(y).simplify()\n",
        "    if ((ux*vx)/(uy*vy)).simplify() == -1:\n",
        "        print(u,\"and\",v,\"are orthogonal\")\n",
        "    else:\n",
        "        print(u,\"and\",v,\"are not orthogonal\")\n",
        "\n",
        "orthogonal(exp(x)*cos(y),exp(x)*sin(y))"
      ],
      "metadata": {
        "trusted": true,
        "colab": {
          "base_uri": "https://localhost:8080/"
        },
        "id": "kXoTgks_8lgE",
        "outputId": "9cc570ff-6c0a-4e06-eec3-a605104f10cd"
      },
      "outputs": [
        {
          "output_type": "stream",
          "name": "stdout",
          "text": [
            "exp(x)*cos(y) and exp(x)*sin(y) are orthogonal\n"
          ]
        }
      ],
      "execution_count": 3
    },
    {
      "cell_type": "markdown",
      "source": [
        "# **Experiment-4**\n",
        "#### Verifying that the real and imaginary parts of a complex function are harmonic in cartesian and polar form."
      ],
      "metadata": {
        "id": "1WDwGYUb8lgF"
      }
    },
    {
      "cell_type": "markdown",
      "source": [
        "Example: $f(z)=z^{3}$"
      ],
      "metadata": {
        "id": "lI0vwpkOAMnV"
      }
    },
    {
      "cell_type": "code",
      "source": [
        "def harmonic_cartesian(u,v):\n",
        "    ux2=u.diff(x,2).simplify()\n",
        "    uy2=u.diff(y,2).simplify()\n",
        "    vx2=v.diff(x,2).simplify()\n",
        "    vy2=v.diff(y,2).simplify()\n",
        "    if (ux2+uy2).simplify()==0 and (vx2+vy2).simplify()==0:\n",
        "        print(u,\"and\",v,\"are haromic functions\")\n",
        "    else:\n",
        "        print(u,\"and\",v,\"are not haromic functions\")\n",
        "\n",
        "harmonic_cartesian(x**3-3*x*y**2,3*x**2*y-y**3)\n",
        "\n",
        "def harmonic_polar(u,v):\n",
        "    ur=(u.diff(r)/r).simplify()\n",
        "    ur2=u.diff(r,2).simplify()\n",
        "    ut2=(u.diff(theta,2)/r**2).simplify()\n",
        "    vr=(v.diff(r)/r).simplify()\n",
        "    vr2=v.diff(r,2).simplify()\n",
        "    vt2=(v.diff(theta,2)/r**2).simplify()\n",
        "    if (ur2+ur+ut2).simplify()==0 and (vr2+vr+vt2).simplify()==0:\n",
        "        print(u,\"and\",v,\"are haromic functions\")\n",
        "    else:\n",
        "        print(u,\"and\",v,\"are not haromic functions\")\n",
        "\n",
        "harmonic_polar(r**2*cos(2*theta),r**2*sin(2*theta))"
      ],
      "metadata": {
        "trusted": true,
        "id": "XP_B51EL8lgF",
        "outputId": "02ac404b-e610-435a-d842-30bd73c443a0"
      },
      "outputs": [
        {
          "name": "stdout",
          "text": "x**3 - 3*x*y**2 and 3*x**2*y - y**3 are haromic functions\nr**2*cos(2*theta) and r**2*sin(2*theta) are haromic functions\n",
          "output_type": "stream"
        }
      ],
      "execution_count": null
    },
    {
      "cell_type": "markdown",
      "source": [
        "# **Experiment-5**\n",
        "#### Cauchy's Integral Theorem."
      ],
      "metadata": {
        "id": "YUjkxADB8lgG"
      }
    },
    {
      "cell_type": "markdown",
      "source": [
        "Example: Evaluate $\\oint_{c}\\frac{z^{2}-z+1}{z-1}dz$ over circle $c:\\mid z \\mid =2$"
      ],
      "metadata": {
        "id": "eluspwtQAkmG"
      }
    },
    {
      "cell_type": "code",
      "source": [
        "def Cauchy_Integral_Formula(fz,dn,c,r,n):\n",
        "    sp=solve(dn,z)[0]\n",
        "    if abs(sp) < abs(c+r):\n",
        "        a=fz.diff(z,n-1).subs(z,sp).simplify()\n",
        "        print(\"The value of the Cauchy Integral is\",((2*pi*i*a)/(factorial(n-1)).simplify()))\n",
        "    else:\n",
        "        print(\"The function is analytic\")\n",
        "\n",
        "Cauchy_Integral_Formula(z**2-z+1,z-1,0,2,1)"
      ],
      "metadata": {
        "trusted": true,
        "id": "Q67lKcaQ8lgH",
        "outputId": "b821103f-a27a-484a-ee3d-987ca4c95ca4"
      },
      "outputs": [
        {
          "name": "stdout",
          "text": "The value of the Cauchy Integral is 2*pi*i\n",
          "output_type": "stream"
        }
      ],
      "execution_count": null
    },
    {
      "cell_type": "markdown",
      "source": [
        "# **Experiment-6**\n",
        "#### Gradient, Divergence, Curl and Laplacian."
      ],
      "metadata": {
        "id": "ZaiPMl5G8lgH"
      }
    },
    {
      "cell_type": "markdown",
      "source": [
        "Example: Find <br>\n",
        "$grad(2x^{2}y^{3}z)$ <br>\n",
        "$div(xyz\\hat{i}+3yx^{2}\\hat{j}+(xz^{2}-zy^{2})\\hat{k})$ <br>\n",
        "$curl((y^{2}+z^{3})\\hat{i}+(2xy-5z)\\hat{j}+(3xz^{2}-5y)\\hat{k})$ <br>\n",
        "$laplacian(3x^{2}+2y^{3}-5z)$"
      ],
      "metadata": {
        "id": "SdJphtkkBVzw"
      }
    },
    {
      "cell_type": "code",
      "source": [
        "def gradient(phi):\n",
        "    g1=phi.diff(x)\n",
        "    g2=phi.diff(y)\n",
        "    g3=phi.diff(z)\n",
        "    print(\"The Gradient of\",phi,\"is\",g1*i+g2*j+g3*k)\n",
        "\n",
        "gradient(2*x**2*y**3*z)\n",
        "\n",
        "def divergence(f):\n",
        "    units=[i,j,k]\n",
        "    components=[f.coeff(vec) for vec in units]\n",
        "    d1=components[0].diff(x)\n",
        "    d2=components[1].diff(y)\n",
        "    d3=components[2].diff(z)\n",
        "    print(\"The Divergence of\",f,\"is\",d1+d2+d3)\n",
        "\n",
        "divergence(x*y*z*i+3*y*x**2*j+(x*z**2-z*y**2)*k)\n",
        "\n",
        "def curl(f):\n",
        "    units=[i,j,k]\n",
        "    components=[f.coeff(vec) for vec in units]\n",
        "    c1=(components[2].diff(y)-components[1].diff(z))*i\n",
        "    c2=(components[2].diff(x)-components[0].diff(z))*j\n",
        "    c3=(components[1].diff(x)-components[0].diff(y))*k\n",
        "    print(\"The Curl of\",f,\"is\",c1+c2+c3)\n",
        "\n",
        "curl((y**2+z**3)*i+(2*x*y-5*z)*j+(3*x*z**2-5*y)*k)\n",
        "\n",
        "def laplacian(phi):\n",
        "    l1=phi.diff(x,2)\n",
        "    l2=phi.diff(y,2)\n",
        "    l3=phi.diff(z,2)\n",
        "    print(\"The Laplcian of\",phi,\"is\",l1+l2+l3)\n",
        "\n",
        "laplacian(3*x**2+2*y**3-5*z)"
      ],
      "metadata": {
        "trusted": true,
        "id": "wAC1u7En8lgH",
        "outputId": "15b2d8ec-d5ed-428a-eb0e-15865063900f"
      },
      "outputs": [
        {
          "name": "stdout",
          "text": "The Gradient of 2*x**2*y**3*z is 4*i*x*y**3*z + 2*k*x**2*y**3 + 6*x**2*y**2*z*j(x, y, z)\nThe Divergence of i*x*y*z + k*(x*z**2 - y**2*z) + 3*x**2*y*j(x, y, z) is 3*x**2 + 2*x*z - y**2 + y*z\nThe Curl of i*(y**2 + z**3) + k*(3*x*z**2 - 5*y) + (2*x*y - 5*z)*j(x, y, z) is 0\nThe Laplcian of 3*x**2 + 2*y**3 - 5*z is 12*y + 6\n",
          "output_type": "stream"
        }
      ],
      "execution_count": null
    },
    {
      "cell_type": "markdown",
      "source": [
        "# **Experiment-7**\n",
        "#### Gradient, Divergence, Curl and Laplacian in cylindrical coordinates."
      ],
      "metadata": {
        "id": "gTs7cxE98lgH"
      }
    },
    {
      "cell_type": "markdown",
      "source": [
        "Example: Find <br>\n",
        "$grad(ρ\\sin(\\theta) + \\rho\\cos(\\theta) + z)$ <br>\n",
        "$laplacian(\\rho\\sin(\\theta) + \\rho\\cos(\\theta) + z)$ <br>\n",
        "$div(x\\hat{i}+y\\hat{j}+z\\hat{k})$ <br>\n",
        "$curl(x\\hat{i}+y\\hat{j}+z\\hat{k})$"
      ],
      "metadata": {
        "id": "KIlR1rIaCzo0"
      }
    },
    {
      "cell_type": "code",
      "source": [
        "er=Symbol('er')\n",
        "et=Symbol('et')\n",
        "ez=Symbol('ez')\n",
        "\n",
        "x=r*cos(theta)\n",
        "y=r*sin(theta)\n",
        "z=z\n",
        "\n",
        "i=cos(theta)*er-sin(theta)*et\n",
        "j=sin(theta)*er+cos(theta)*et\n",
        "k=ez\n",
        "\n",
        "r1=x+y+z\n",
        "\n",
        "def gradient(r1):\n",
        "    g1=r1.diff(r)*er\n",
        "    g2=(r1.diff(theta)*et)/r\n",
        "    g3=r1.diff(z)*ez\n",
        "    print(\"The Gradient of\",r1,\"is\",g1+g2+g3)\n",
        "\n",
        "gradient(r1)\n",
        "\n",
        "def laplacian(r1):\n",
        "    l1=(r*diff(r1,r)).diff(r)/r\n",
        "    l2=(diff(r1,theta,2))/r**2\n",
        "    l3=diff(r1,z,2)\n",
        "    print(\"The Laplacian of\",r1,\"is\",l1+l2+l3)\n",
        "\n",
        "laplacian(r1)\n",
        "\n",
        "r2=(x*i+y*j+z*k).simplify()\n",
        "\n",
        "def divergence(r2):\n",
        "    units=[er,et,ez]\n",
        "    components=[r2.coeff(vec) for vec in units]\n",
        "    d1=diff(components[0]*r,r)/r\n",
        "    d2=diff(components[1],theta)/r\n",
        "    d3=diff(components[2],z)\n",
        "    print(\"The Divergence of\",r2,\"is\",d1+d2+d3)\n",
        "\n",
        "divergence(r2)\n",
        "\n",
        "def curl(r2):\n",
        "    units=[er,et,ez]\n",
        "    components=[r2.coeff(vec) for vec in units]\n",
        "    c1=(components[2].diff(theta)-(r*components[1]).diff(theta))*er\n",
        "    c2=(components[2].diff(r)-components[0].diff(z))*et\n",
        "    c3=((r*components[1]).diff(r)-components[0].diff(theta))*ez\n",
        "    print(\"The Curl of\",r2,\"is\",c1-c2+c3)\n",
        "\n",
        "curl(r2)"
      ],
      "metadata": {
        "trusted": true,
        "id": "phnX6vdI8lgI",
        "outputId": "1c9a79b3-9a20-4aa2-b091-d8d201da5929"
      },
      "outputs": [
        {
          "name": "stdout",
          "text": "The Gradient of r*sin(theta) + r*cos(theta) + z is er*(sin(theta) + cos(theta)) + et*(-r*sin(theta) + r*cos(theta))/r + ez\nThe Laplacian of r*sin(theta) + r*cos(theta) + z is 0\nThe Divergence of er*r + ez*z is 3\nThe Curl of er*r + ez*z is 0\n",
          "output_type": "stream"
        }
      ],
      "execution_count": null
    },
    {
      "cell_type": "markdown",
      "source": [
        "# **Experiment-8**\n",
        "#### Gradient and Laplacian in spherical coordinates."
      ],
      "metadata": {
        "id": "PrM3Nwi08lgI"
      }
    },
    {
      "cell_type": "markdown",
      "source": [
        "Example: Find <br>\n",
        "$grad(x+y+z)$ <br>\n",
        "$laplacian(x+y+z)$"
      ],
      "metadata": {
        "id": "bOdKZ5GNEu71"
      }
    },
    {
      "cell_type": "code",
      "source": [
        "er=Symbol('er')\n",
        "et=Symbol('et')\n",
        "ep=Symbol('ep')\n",
        "\n",
        "x=r*sin(theta)*cos(phi)\n",
        "y=r*sin(theta)*sin(phi)\n",
        "z=r*cos(theta)\n",
        "\n",
        "i=sin(theta)*cos(phi)*er+cos(theta)*cos(phi)*et-sin(phi)*ep\n",
        "j=sin(theta)*sin(phi)*er+cos(theta)*sin(phi)*et+cos(phi)*ep\n",
        "k=cos(theta)*er-sin(theta)*et\n",
        "\n",
        "f1=x+y+z\n",
        "\n",
        "def gradient(f1):\n",
        "    g1=f1.diff(r)*er\n",
        "    g2=(f1.diff(theta)*et)/r\n",
        "    g3=(f1.diff(phi)*ep)/(r*sin(theta))\n",
        "    print(\"The Gradient of\",f1,\"is\",g1+g2+g3)\n",
        "\n",
        "gradient(f1)\n",
        "\n",
        "def laplacian(f1):\n",
        "    l1=((f1.diff(r)*r**2).diff(r))/r**2\n",
        "    l2=((f1.diff(theta)*sin(theta)).diff(theta))/(r**2*sin(theta))\n",
        "    l3=((f1.diff(phi,2)))/(r**2*sin(theta)**2)\n",
        "    print(\"The Laplacian of\",f1,\"is\",(l1+l2+l3).simplify())\n",
        "\n",
        "laplacian(f1)"
      ],
      "metadata": {
        "trusted": true,
        "id": "PTK6a8ae8lgI",
        "outputId": "8ad11f05-c10e-42c1-aa52-da2d1ff63edf"
      },
      "outputs": [
        {
          "name": "stdout",
          "text": "The Gradient of r*sin(phi)*sin(theta) + r*sin(theta)*cos(phi) + r*cos(theta) is ep*(-r*sin(phi)*sin(theta) + r*sin(theta)*cos(phi))/(r*sin(theta)) + er*(sin(phi)*sin(theta) + sin(theta)*cos(phi) + cos(theta)) + et*(r*sin(phi)*cos(theta) - r*sin(theta) + r*cos(phi)*cos(theta))/r\nThe Laplacian of r*sin(phi)*sin(theta) + r*sin(theta)*cos(phi) + r*cos(theta) is 0\n",
          "output_type": "stream"
        }
      ],
      "execution_count": null
    },
    {
      "cell_type": "markdown",
      "source": [
        "# **Experiment-9**\n",
        "#### Vector Identites - I"
      ],
      "metadata": {
        "id": "X59i5tr78lgI"
      }
    },
    {
      "cell_type": "markdown",
      "source": [
        "Example: Verify the following identities using $\\phi=x+y+z$ , $\\psi=x^{2}+y^{2}+z^{2}$ , $f=x\\hat{i}+y\\hat{j}+z\\hat{k}$ and $g=x^{2}\\hat{i}+y^{2}\\hat{j}+z^{2}\\hat{k}$<br>\n",
        "$grad(\\phi+\\psi)=grad(\\phi)+grad(\\psi)$ <br>\n",
        "$div(f+g)=div(f)+div(g)$ <br>\n",
        "$curl(f+g)=curl(f)+curl(g)$ <br>\n"
      ],
      "metadata": {
        "id": "bGfDZ1BuFV39"
      }
    },
    {
      "cell_type": "code",
      "source": [
        "def gradient(m):\n",
        "    g1=m.diff(x)\n",
        "    g2=m.diff(y)\n",
        "    g3=m.diff(z)\n",
        "    return g1*i+g2*j+g3*k\n",
        "\n",
        "j=Function('j')(x,y,z)\n",
        "l=Function('l')(x,y,z)\n",
        "\n",
        "if factor(gradient(j+l)) == gradient(j)+gradient(l):\n",
        "    print(\"grad(phi+psi)=grad(phi)+grad(psi) is satisfied.\")\n",
        "\n",
        "def divergence(f):\n",
        "    units=[i,j,k]\n",
        "    components=[f.coeff(vec) for vec in units]\n",
        "    d1=components[0].diff(x)\n",
        "    d2=components[1].diff(y)\n",
        "    d3=components[2].diff(z)\n",
        "    return d1+d2+d3\n",
        "\n",
        "o=x*i+y*j+z*k\n",
        "p=x**2*i+y**2*j+z**2*k\n",
        "\n",
        "if factor(divergence(o+p)) == divergence(o)+divergence(p):\n",
        "    print(\"div(f+g)=div(f)+div(g) is satisfied.\")\n",
        "\n",
        "def curl(f):\n",
        "    units=[i,j,k]\n",
        "    components=[f.coeff(vec) for vec in units]\n",
        "    c1=(components[2].diff(y)-components[1].diff(z))*i\n",
        "    c2=(components[2].diff(x)-components[0].diff(z))*j\n",
        "    c3=(components[1].diff(x)-components[0].diff(y))*k\n",
        "    return c1+c2+c3\n",
        "\n",
        "if factor(curl(o+p)) == curl(o)+curl(p):\n",
        "    print(\"curl(f+g)=curl(f)+curl(g) is satisfied.\")"
      ],
      "metadata": {
        "trusted": true,
        "colab": {
          "base_uri": "https://localhost:8080/"
        },
        "id": "hkhIAHly8lgJ",
        "outputId": "599b0702-7210-4e90-c8d9-bbc215613a83"
      },
      "outputs": [
        {
          "output_type": "stream",
          "name": "stdout",
          "text": [
            "grad(phi+psi)=grad(phi)+grad(psi) is satisfied.\n",
            "div(f+g)=div(f)+div(g) is satisfied.\n",
            "curl(f+g)=curl(f)+curl(g) is satisfied.\n"
          ]
        }
      ],
      "execution_count": 4
    }
  ]
}