{
  "nbformat": 4,
  "nbformat_minor": 0,
  "metadata": {
    "colab": {
      "provenance": []
    },
    "kernelspec": {
      "name": "python3",
      "display_name": "Python 3"
    },
    "language_info": {
      "name": "python"
    }
  },
  "cells": [
    {
      "cell_type": "markdown",
      "source": [
        "#**Experiment-1**\n",
        "## **ODE: Linear Equations**\n",
        "#### Linear Differential Equations:\n",
        "\n",
        "> Any differential equation of the form $\\frac{\\mathrm{d}y}{\\mathrm{d}x} + P(x)y=Q(x)$ is called a linear dfferential equation of order 1\n",
        "\n",
        "#### Working rule to solve a linear differential equation\n",
        "> Step 1: Find integrating factor for the above equation using $I.F=e^{\\int Pdx}$\n",
        "<br>\n",
        "Step 2: Multiply the I.F to get general solution $y(I.F)=\\int Q(I.F)dx + c$\n",
        "\n"
      ],
      "metadata": {
        "id": "NJouINgCJ5f-"
      }
    },
    {
      "cell_type": "markdown",
      "source": [
        "\n",
        "\n",
        "Example: Solve the linear differential equation $\\frac{\\mathrm{d} y}{\\mathrm{d} x} + 2y\\tan(x)=\\sin(x)$ using the initial conditions $y(\\frac{\\pi}{3})=0$ and find solution at $x=\\pi$\n",
        "\n"
      ],
      "metadata": {
        "id": "Ttg7gAQ2Mcl5"
      }
    },
    {
      "cell_type": "code",
      "execution_count": 1,
      "metadata": {
        "colab": {
          "base_uri": "https://localhost:8080/",
          "height": 539
        },
        "id": "IJiASX9fH1DW",
        "outputId": "4fe5a0ee-1f90-4ded-b746-2d7e23391da3"
      },
      "outputs": [
        {
          "output_type": "stream",
          "name": "stdout",
          "text": [
            "The solution of the given DE is: (1 - 2*cos(x))*cos(x)\n",
            "The value of y at pi is: -3\n"
          ]
        },
        {
          "output_type": "display_data",
          "data": {
            "text/plain": [
              "<Figure size 640x480 with 1 Axes>"
            ],
            "image/png": "[encoded data removed]"
          },
          "metadata": {}
        },
        {
          "output_type": "execute_result",
          "data": {
            "text/plain": [
              "<sympy.plotting.plot.Plot at 0x7ef91e3de650>"
            ]
          },
          "metadata": {},
          "execution_count": 1
        }
      ],
      "source": [
        "from sympy import dsolve, Symbol, Function, tan, sin, pi, plot, diff, Eq\n",
        "x = Symbol('x')\n",
        "y = Function('y')\n",
        "de = Eq(diff(y(x),x)+ 2*tan(x)*y(x), sin(x))\n",
        "y0 = {y(pi/3):0}\n",
        "x1 = pi\n",
        "sol = dsolve(de,y(x),ics=y0)\n",
        "print(\"The solution of the given DE is:\", sol.rhs)\n",
        "print(\"The value of y at\", x1, \"is:\", sol.rhs.subs(x,x1))\n",
        "plot (sol.rhs, (x, pi/2, 2*pi), ylabel=\"y(x)\")"
      ]
    },
    {
      "cell_type": "markdown",
      "source": [
        "#**Experiment-2**\n",
        "### Bernoulli's Equation:\n",
        "\n",
        "> Any differential equation of the form $\\frac{\\mathrm{d}y}{\\mathrm{d}x} + P(x)y=Q(x)y^{n}$ is called a linear dfferential equation of order 1\n",
        "\n",
        "###Working rule to solve Bernoulli's equation (Assume n>1)\n",
        "> Step 1: Dividing the given equation by $y^{n}$ we get $\\frac{1}{y^{n}}\\frac{\\mathrm{d} y}{\\mathrm{d} x} + \\frac{P}{y^{n-1}}=Q$\n",
        "<br>\n",
        "Step 2: Let $\\frac{1}{y^{n-1}}=v$ or $y^{1-n}=v$. Differentiating $y^{1-n}=v$ wrt x we get $\\frac{1}{y^{n}}\\frac{\\mathrm{d} y}{\\mathrm{d} x}=\\frac{1}{1-n}\\frac{\\mathrm{d} v}{\\mathrm{d} x}$\n",
        "<br>\n",
        "Step 3: Using Step 2 in 1 we get $\\frac{1}{1-n}\\frac{\\mathrm{d} v}{\\mathrm{d} x} + Pv=Q$ i.e., $\\frac{\\mathrm{d} v}{\\mathrm{d} x} + P(1-n)v=Q(1-n)$\n",
        "<br>\n",
        "Step 4: Denoting $P(1-n)$ as $P_{1}$ and $Q(1-n)$ as $Q_{1}$ we have $\\frac{\\mathrm{d} v}{\\mathrm{d} x} + P_{1}v=Q_{1}$ which is a linear differential equation\n",
        "<br>\n",
        "Step 5: Solve the linear differetial equation similarly as was done previously and finally substitute $v=y^{1-n}$"
      ],
      "metadata": {
        "id": "ue_TnejHQmYr"
      }
    },
    {
      "cell_type": "markdown",
      "source": [
        "Example: Solve the differential equation $\\frac{\\mathrm{d} y}{\\mathrm{d} x} + \\frac{y}{x}=y^{2}$ using the initial conditions $y(1)=1$ and find solution at $x=2$"
      ],
      "metadata": {
        "id": "uytmnN7xTWSO"
      }
    },
    {
      "cell_type": "code",
      "source": [
        "from sympy import dsolve, Symbol, Function, plot, diff, Eq, pi, simplify\n",
        "x = Symbol('x')\n",
        "y = Function('y')\n",
        "de = Eq(diff(y(x),x)+ (1/x)*y(x), y(x)**2)\n",
        "y0 = {y(1):1}\n",
        "x1=2\n",
        "sol = dsolve(de,y(x),ics=y0)\n",
        "print(\"The solution of the given DE is:\", simplify(sol.rhs))\n",
        "print(\"The value of y at\", x1, \"is:\", sol.rhs.subs(x,x1))\n",
        "plot (simplify(sol.rhs), (x, pi/2, 2*pi), ylabel=\"y(x)\")"
      ],
      "metadata": {
        "colab": {
          "base_uri": "https://localhost:8080/",
          "height": 539
        },
        "id": "vOcskcpSTxcq",
        "outputId": "b9ddf942-dfdc-4322-e60d-dc7a809169c6"
      },
      "execution_count": 15,
      "outputs": [
        {
          "output_type": "stream",
          "name": "stdout",
          "text": [
            "The solution of the given DE is: -1/(x*(log(x) - 1))\n",
            "The value of y at 2 is: 1/(2*(1 - log(2)))\n"
          ]
        },
        {
          "output_type": "display_data",
          "data": {
            "text/plain": [
              "<Figure size 640x480 with 1 Axes>"
            ],
            "image/png": "[encoded data removed]"
          },
          "metadata": {}
        },
        {
          "output_type": "execute_result",
          "data": {
            "text/plain": [
              "<sympy.plotting.plot.Plot at 0x7ef91e68eb30>"
            ]
          },
          "metadata": {},
          "execution_count": 15
        }
      ]
    },
    {
      "cell_type": "markdown",
      "source": [
        "#**Experiment-3**\n",
        "#### Checking if a set is a group using Cayley's Table\n",
        "#### Group: A non-empty set G with a binary operation * denoted by (G,*) is called a group if it satisfies the following:\n",
        "\n",
        "\n",
        "> Closure: $∀ a,b \\in G, \\quad a*b \\in G$\n",
        "<br>\n",
        "Associative: $∀ a,b,c \\in G, \\quad (a*b)*c=a*(b*c)$\n",
        "<br>\n",
        "Identity: $\\exists e \\in G \\ni a*e=e*a=a, ∀ a \\in G$\n",
        "<br>\n",
        "Inverse: $∀ a \\in G \\; \\exists a^{-1}\\in G \\ni a*a^{-1}=a^{-1}*a=e$\n",
        "\n",
        "#### Abelian Group: If $∀ a, b \\in G, a*b=b*a$ then we say that (G,*) is an abelian group\n",
        "\n",
        "\n",
        "\n",
        "\n",
        "\n",
        "\n",
        "\n",
        "\n"
      ],
      "metadata": {
        "id": "vaypJFUvaBNh"
      }
    },
    {
      "cell_type": "markdown",
      "source": [
        "Example: Verify whether $(\\mathbb{Z}_{6},\\oplus_{6})$ is a group or not using Cayley's Table. Also check if the operation is commutative."
      ],
      "metadata": {
        "id": "RM9Y6-gXdCqN"
      }
    },
    {
      "cell_type": "code",
      "source": [
        "def addmod(a,b,n):\n",
        "    return (a+b)%n\n",
        "def multmod (a,b,n):\n",
        "    return (a*b)%n\n",
        "def cayley(G,n,op):\n",
        "    print(\"The cayley table for the group G =\",G,\"is\")\n",
        "    for i in G:\n",
        "        for j in G:\n",
        "            print(op(i,j,n),end=\"\\t\")\n",
        "        print(\"\\n\")\n",
        "def commutative(G,n,op):\n",
        "    for i in G:\n",
        "        for j in G:\n",
        "            if op(i,j,n) != op(j,i,n):\n",
        "                print(\"The given operation is not commutative on the set\",G)\n",
        "                return\n",
        "    print(\"The given operation is commutative on the set\",G)\n",
        "    return\n",
        "\n",
        "cayley([0,1,2,3,4,5],6,addmod)\n",
        "commutative([0,1,2,3,4,5],6,addmod)"
      ],
      "metadata": {
        "colab": {
          "base_uri": "https://localhost:8080/"
        },
        "id": "IuVaKeL1dB6G",
        "outputId": "0cea8bf5-fdbf-4dfd-8233-0d7182d8885d"
      },
      "execution_count": 16,
      "outputs": [
        {
          "output_type": "stream",
          "name": "stdout",
          "text": [
            "The cayley table for the group G = [0, 1, 2, 3, 4, 5] is\n",
            "0\t1\t2\t3\t4\t5\t\n",
            "\n",
            "1\t2\t3\t4\t5\t0\t\n",
            "\n",
            "2\t3\t4\t5\t0\t1\t\n",
            "\n",
            "3\t4\t5\t0\t1\t2\t\n",
            "\n",
            "4\t5\t0\t1\t2\t3\t\n",
            "\n",
            "5\t0\t1\t2\t3\t4\t\n",
            "\n",
            "The given operation is commutative on the set [0, 1, 2, 3, 4, 5]\n"
          ]
        }
      ]
    },
    {
      "cell_type": "markdown",
      "source": [
        "#**Experiment-4**\n",
        "#### Checking if a given subset of a group is a subgroup\n",
        "#### Subgroup: Let (G,*) be a group. A non-empty set H inside G is said to be a subgroup of Gif H itself is a group under the same operations as that of G\n",
        "#### 2-Step subgroup test: Let (G,*) be a group. A non-empty subset H in G is a subgroup of G iff\n",
        "\n",
        "\n",
        "> $∀ a,b \\in H, a*b \\in H$\n",
        "<br>\n",
        "$∀ a \\in H, a^{-1} \\in H$\n",
        "\n",
        "#### 1-Step subgroup test: Let (G,*) be a group. A non-empty finite subset H in G is a subgroup of G iff\n",
        "\n",
        "\n",
        "> $∀ a,b \\in H, a*b^{-1} \\in H$\n",
        "\n"
      ],
      "metadata": {
        "id": "K3LG-Nv-d7En"
      }
    },
    {
      "cell_type": "markdown",
      "source": [
        "Example: Verify whether the specified set H is a subgroup of the given group $H=\\{0,2,4,6,8\\}, (G,*)=(\\mathbb{Z}_{10},\\oplus_{10})$"
      ],
      "metadata": {
        "id": "-PKsSJG3fQIk"
      }
    },
    {
      "cell_type": "code",
      "source": [
        "def subgroup (H,n,op):\n",
        "    for i in H:\n",
        "        for j in H:\n",
        "            if op=='+':\n",
        "                if (i+j)%n not in H:\n",
        "                    print(H,\"is not a subgroup of the given group\")\n",
        "                    return\n",
        "            elif (i*j)%n not in H:\n",
        "                print (H,\"is not a subgroup of the given group\")\n",
        "                return\n",
        "    print (H,\"is a subgroup of the given group\")\n",
        "    return\n",
        "\n",
        "subgroup ([0,2,4,6,8],10,'+')"
      ],
      "metadata": {
        "colab": {
          "base_uri": "https://localhost:8080/"
        },
        "id": "eD3uz68cf1o0",
        "outputId": "0a4d5bc9-fcfe-4daa-bb13-de1e58c67aa8"
      },
      "execution_count": 17,
      "outputs": [
        {
          "output_type": "stream",
          "name": "stdout",
          "text": [
            "[0, 2, 4, 6, 8] is a subgroup of the given group\n"
          ]
        }
      ]
    },
    {
      "cell_type": "markdown",
      "source": [
        "#**Experiment-4**\n",
        "#### Checking if a group is cyclic\n",
        "#### Cyclic Group: A group (G,*) is said to be cyclic goup if there exists an element $a\\in G$ such that $G=<a>=\\{a^{n}| n \\in \\mathbb{Z}\\}$. Then we call G the cyclic group generated by 'a' and 'a' the generator of G"
      ],
      "metadata": {
        "id": "26TMvbemf-Dp"
      }
    },
    {
      "cell_type": "markdown",
      "source": [
        "Example: Check whether the given group $(\\mathbb{Z}_{4},\\oplus_{4})$ is cyclic or not. Find all its generators."
      ],
      "metadata": {
        "id": "irMs9P9ag-_1"
      }
    },
    {
      "cell_type": "code",
      "source": [
        "def is_cyclic(G,op,n):\n",
        "    generators=[]\n",
        "    for i in G:\n",
        "        if op=='+':\n",
        "            gtd_i=[(k*i)%n for k in range (1,len(G)+1)]\n",
        "        else:\n",
        "            gtd_i=[(i**k)%n for k in range (1,len(G)+1)]\n",
        "        if set (gtd_i)==set(G):\n",
        "            generators.append(i)\n",
        "    if generators==[]:\n",
        "        print(\"The group\",set(G),\"is not cyclic\")\n",
        "    else:\n",
        "        print(\"The group\",set(G),\"is cyclic and the set of generators is\",set(generators))\n",
        "\n",
        "is_cyclic([0,1,2,3,],'+',4)"
      ],
      "metadata": {
        "colab": {
          "base_uri": "https://localhost:8080/"
        },
        "id": "EuPCDH5HhVmp",
        "outputId": "e7f47847-616b-4848-bb09-898b5301cb57"
      },
      "execution_count": 18,
      "outputs": [
        {
          "output_type": "stream",
          "name": "stdout",
          "text": [
            "The group {0, 1, 2, 3} is cyclic and the set of generators is {1, 3}\n"
          ]
        }
      ]
    },
    {
      "cell_type": "markdown",
      "source": [
        "#**Experiment-5**\n",
        "#### Finding number of elements of each order in a cyclic group\n",
        "#### Key Points\n",
        "\n",
        "1.   Let (G,*) be a group and $a\\in G$. The order of a is defined to be the smallest positive integer 'n' such that $a^{n}=e$\n",
        "2.   The order of an element cannot exceed order of the group\n",
        "3. The order of an element divides the order of a finite group.\n",
        "\n"
      ],
      "metadata": {
        "id": "M7l5zYrzhf7T"
      }
    },
    {
      "cell_type": "markdown",
      "source": [
        "Example: Find the number of elements of each possible order for the group $(\\mathbb{Z}_{6},\\oplus_{6})$"
      ],
      "metadata": {
        "id": "IXujOWDkVpWP"
      }
    },
    {
      "cell_type": "code",
      "source": [
        "def order_of_elements(G,e):\n",
        "    n = len(G)\n",
        "    divisors=[]\n",
        "    for i in range (1,n+1):\n",
        "        if n%i==0:\n",
        "            divisors.append(i)\n",
        "    print(\"The divisors of\",n,\"are\",divisors)\n",
        "    for j in divisors:\n",
        "        ord_j_elts=[]\n",
        "        for a in G:\n",
        "            for k in range(1,j+1):\n",
        "                if (a*k)%n==e and k<j:\n",
        "                    break\n",
        "                elif (a*k)%n==e and k==j:\n",
        "                    print(\"The order of\",a,\"is\",j)\n",
        "                    ord_j_elts.append(a)\n",
        "        print(\"The number of elements of order\",j,\"is\",len(ord_j_elts))\n",
        "\n",
        "order_of_elements([0,1,2,3,4,5],0)"
      ],
      "metadata": {
        "colab": {
          "base_uri": "https://localhost:8080/"
        },
        "id": "mhW2_YNnWCsD",
        "outputId": "c0b0c3f4-d36e-4ae3-8bbd-b6a9ad589209"
      },
      "execution_count": 1,
      "outputs": [
        {
          "output_type": "stream",
          "name": "stdout",
          "text": [
            "The divisors of 6 are [1, 2, 3, 6]\n",
            "The order of 0 is 1\n",
            "The number of elements of order 1 is 1\n",
            "The order of 3 is 2\n",
            "The number of elements of order 2 is 1\n",
            "The order of 2 is 3\n",
            "The order of 4 is 3\n",
            "The number of elements of order 3 is 2\n",
            "The order of 1 is 6\n",
            "The order of 5 is 6\n",
            "The number of elements of order 6 is 2\n"
          ]
        }
      ]
    },
    {
      "cell_type": "markdown",
      "source": [
        "#**Experiment-6**\n",
        "#### Finding the angle between the radius vector and the tangent at a point on the curve."
      ],
      "metadata": {
        "id": "Ase0TyE9Wak3"
      }
    },
    {
      "cell_type": "markdown",
      "source": [
        "Example: Find the angle between radius vector and tangent for the curve $r=a(1+\\cos(\\theta))$ at $\\theta=\\frac{\\pi}{6}$. Also find the slope at the same point."
      ],
      "metadata": {
        "id": "Sdnn0m1pW9GE"
      }
    },
    {
      "cell_type": "code",
      "source": [
        "from sympy import *\n",
        "from sympy.abc import theta, a, phi, l, t\n",
        "def angle_slope(r,t):\n",
        "    tanp=(r/r.diff(theta)).subs(theta,t)\n",
        "    ang=solve(tanp-tan(phi),phi)[0]\n",
        "    psi=(ang+theta).subs(theta,t)\n",
        "    print(\"Angle=\",float(ang))\n",
        "    print(\"Slope=\",tan(psi))\n",
        "\n",
        "angle_slope(a*(1+sin(theta)),pi/6)"
      ],
      "metadata": {
        "colab": {
          "base_uri": "https://localhost:8080/"
        },
        "id": "uC7Xtf7TXRUm",
        "outputId": "ef21bd16-3378-4cd9-df43-05b13f9bc559"
      },
      "execution_count": 13,
      "outputs": [
        {
          "output_type": "stream",
          "name": "stdout",
          "text": [
            "Angle= 1.0471975511965979\n",
            "Slope= zoo\n"
          ]
        }
      ]
    },
    {
      "cell_type": "markdown",
      "source": [
        "#**Experiment-7**\n",
        "#### Finding the length of a curve\n",
        "#### Formulae\n",
        "\n",
        "\n",
        "1.   Cartesian form: $s=\\int_{a}^{b}\\sqrt{(\\frac{\\mathrm{d} y}{\\mathrm{d} x})^{2}+1} \\: dx$\n",
        "2.   Polar form: $s=\\int_{\\theta = α}^{\\theta = β}\\sqrt{(\\frac{\\mathrm{d} r}{\\mathrm{d} \\theta })^{2}+r^{2}} \\: d\\theta$\n",
        "3. Parametric form: $s=\\int_{t=a}^{t=b}\\sqrt{(\\frac{\\mathrm{d} y}{\\mathrm{d} t})^{2}+(\\frac{\\mathrm{d} x}{\\mathrm{d} t})^{2}} \\: dt$\n",
        "\n"
      ],
      "metadata": {
        "id": "dhhCzXFeaCdl"
      }
    },
    {
      "cell_type": "markdown",
      "source": [
        "Example: Find the entire length of the asteroid $x^{\\frac{2}{3}}+y^{\\frac{2}{3}}=a^{\\frac{2}{3}}$ where $a>0$. Write a python program to find arc length at $a=2$"
      ],
      "metadata": {
        "id": "FcJzY2oWbwjU"
      }
    },
    {
      "cell_type": "code",
      "source": [
        "from sympy import *\n",
        "x=Symbol('x')\n",
        "a=2\n",
        "y=(a**(2/3)-x**(2/3))**(3/2)\n",
        "u=sqrt(1+diff(y,x)**2)\n",
        "s=float(4*Integral(u,(x,0,2)))\n",
        "print(\"The arc length of given curve is\",s)"
      ],
      "metadata": {
        "colab": {
          "base_uri": "https://localhost:8080/"
        },
        "id": "onQGHttMcMxv",
        "outputId": "4676458d-7c3b-443d-aea2-1522df3ccab6"
      },
      "execution_count": 14,
      "outputs": [
        {
          "output_type": "stream",
          "name": "stdout",
          "text": [
            "The arc length of given curve is 12.0\n"
          ]
        }
      ]
    },
    {
      "cell_type": "markdown",
      "source": [
        "#**Experiment-8**\n",
        "#### Tracing of Cartesian, Polar and Parametric curves1"
      ],
      "metadata": {
        "id": "q7t978tZdB2K"
      }
    },
    {
      "cell_type": "markdown",
      "source": [
        "Example: Trace the curve Cissoid $y^{2}(a-x)=x^{3},a>0$"
      ],
      "metadata": {
        "id": "c3q1ei-bdPKS"
      }
    },
    {
      "cell_type": "code",
      "source": [
        "from sympy import var, plot_implicit\n",
        "var('x y')\n",
        "a=1\n",
        "plot_implicit((y**2)*(a-x)-(x**3),(x,-1,1),(y,-1,1))"
      ],
      "metadata": {
        "colab": {
          "base_uri": "https://localhost:8080/",
          "height": 504
        },
        "id": "RWmZNFGOdd4o",
        "outputId": "c946d53d-69c2-4725-d932-821d30cea6b8"
      },
      "execution_count": 15,
      "outputs": [
        {
          "output_type": "display_data",
          "data": {
            "text/plain": [
              "<Figure size 640x480 with 1 Axes>"
            ],
            "image/png": "[encoded data removed]"
          },
          "metadata": {}
        },
        {
          "output_type": "execute_result",
          "data": {
            "text/plain": [
              "<sympy.plotting.plot.Plot at 0x7f717bece230>"
            ]
          },
          "metadata": {},
          "execution_count": 15
        }
      ]
    },
    {
      "cell_type": "markdown",
      "source": [
        "#**Experiment-9**\n",
        "#### Finding the surface area of revolution\n",
        "#### Formulae\n",
        "\n",
        "\n",
        "1.   Cartesian form (Revolution around x-axis): $S=\\int_{x=a}^{x=b}2\\pi yds$ where $ds=\\int\\sqrt{(\\frac{\\mathrm{d} y}{\\mathrm{d} x})^{2}+1} \\: dx$\n",
        "2.   Cartesian form (Revolution around y-axis): $S=\\int_{x=a}^{x=b}2\\pi xds$ where $ds=\\int\\sqrt{(\\frac{\\mathrm{d} x}{\\mathrm{d} y})^{2}+1} \\: dy$\n",
        "3. Polar form: $S=\\int_{\\theta = α}^{\\theta = β}2\\pi (r\\sin(\\theta))ds$ where $ds=\\int\\sqrt{(\\frac{\\mathrm{d} r}{\\mathrm{d} \\theta })^{2}+r^{2}} \\: d\\theta$\n",
        "4. Parametric form: $S=\\int_{t=a}^{t=b}2\\pi y(t)ds$ where $ds=\\int\\sqrt{(\\frac{\\mathrm{d} y}{\\mathrm{d} t})^{2}+(\\frac{\\mathrm{d} x}{\\mathrm{d} t})^{2}} \\: dt$\n",
        "\n"
      ],
      "metadata": {
        "id": "IAg2wy6Jdq9V"
      }
    },
    {
      "cell_type": "markdown",
      "source": [
        "Example: Find area of surface generated by revolving the curve $x=y^{3}$ about the y-axis from $y=0$ to $y=2$"
      ],
      "metadata": {
        "id": "XJyynmb2f1xY"
      }
    },
    {
      "cell_type": "code",
      "source": [
        "from sympy import Symbol,diff,Integral,pi\n",
        "y=Symbol('y')\n",
        "x=y**3\n",
        "arcl= (1+(diff(x,y))**2)**(1/2)\n",
        "u=float(2*pi*Integral(y**3*arcl,(y,0,2)))\n",
        "print(\"The surface area of revolution is = \",u)"
      ],
      "metadata": {
        "colab": {
          "base_uri": "https://localhost:8080/"
        },
        "id": "QjOZ_n9EgGaN",
        "outputId": "fb07da94-23fc-49be-bff3-79fc3a1f7a11"
      },
      "execution_count": 16,
      "outputs": [
        {
          "output_type": "stream",
          "name": "stdout",
          "text": [
            "The surface area of revolution is =  203.0436015537515\n"
          ]
        }
      ]
    },
    {
      "cell_type": "markdown",
      "source": [
        "#**Experiment-10**\n",
        "#### Finding the volume of solid of revolution\n",
        "#### Formulae\n",
        "\n",
        "\n",
        "1.   Around x-axis: $V=\\int_{x=a}^{x=b}\\pi y^{2}dx=\\int_{x=a}^{x=b}\\pi [f(x)]^{2}dx$\n",
        "2.   Around y-axis: $V=\\int_{y=a}^{y=b}\\pi x^{2}dy=\\int_{y=a}^{y=b}\\pi [f(y)]^{2}dy$\n",
        "\n"
      ],
      "metadata": {
        "id": "SY564p_MgVVS"
      }
    },
    {
      "cell_type": "markdown",
      "source": [
        "Example: Find the volume generated by revolving an Ellipse $\\frac{x^{2}}{a^{2}}+\\frac{y^{2}}{b^{2}}=1$ about x-axis and find its volume when $a=2, b=1$"
      ],
      "metadata": {
        "id": "mdggRAvRhTNp"
      }
    },
    {
      "cell_type": "code",
      "source": [
        "from sympy import *\n",
        "x=Symbol('x')\n",
        "a,b=2,1\n",
        "y_sq=b**2*(1-x**2/a**2)\n",
        "u=float(2*pi*Integral(y_sq,(x,0,a)))\n",
        "print(\"The volume of revolution is \",u)"
      ],
      "metadata": {
        "colab": {
          "base_uri": "https://localhost:8080/"
        },
        "id": "6dspew_lhrS9",
        "outputId": "56bf39b1-1981-4eab-9356-0e5f378e18ee"
      },
      "execution_count": 17,
      "outputs": [
        {
          "output_type": "stream",
          "name": "stdout",
          "text": [
            "The volume of revolution is  8.377580409572783\n"
          ]
        }
      ]
    }
  ]
}