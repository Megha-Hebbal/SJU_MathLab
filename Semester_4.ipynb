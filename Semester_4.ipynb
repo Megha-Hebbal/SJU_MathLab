{
  "nbformat": 4,
  "nbformat_minor": 0,
  "metadata": {
    "colab": {
      "provenance": []
    },
    "kernelspec": {
      "name": "python3",
      "display_name": "Python 3"
    },
    "language_info": {
      "name": "python"
    }
  },
  "cells": [
    {
      "cell_type": "markdown",
      "source": [
        "#**Experiment-1a**\n",
        "#### Finding the root of a continuous function using Bisection Method"
      ],
      "metadata": {
        "id": "9wPNaDFvfiV1"
      }
    },
    {
      "cell_type": "markdown",
      "source": [
        "Example: Find the root of $f(x)=x^{3}-2x-5$"
      ],
      "metadata": {
        "id": "dc17xdyLfrrM"
      }
    },
    {
      "cell_type": "code",
      "execution_count": null,
      "metadata": {
        "colab": {
          "base_uri": "https://localhost:8080/"
        },
        "id": "zEvx1MXle03Z",
        "outputId": "fba09068-6ba2-42e9-cacf-ced66844f6fa"
      },
      "outputs": [
        {
          "output_type": "stream",
          "name": "stdout",
          "text": [
            "The Root is 2.0946\n"
          ]
        }
      ],
      "source": [
        "from sympy import *\n",
        "from math import *\n",
        "x=Symbol('x')\n",
        "y=Function('y')('x')\n",
        "def y(x):\n",
        "    return x**3-(2*x)-5\n",
        "a=2\n",
        "b=3\n",
        "while((b-a)>=0.00001):\n",
        "    c=(a+b)/2\n",
        "    fc=y(c)\n",
        "    if fc>0:\n",
        "        b=c\n",
        "    elif fc<0:\n",
        "        a=c\n",
        "    else:\n",
        "        break\n",
        "print(\"The Root is\", round(c,4))"
      ]
    },
    {
      "cell_type": "markdown",
      "source": [
        "#**Experiment-1b**\n",
        "#### Finding the root of a continuous function using Newton Raphson Method"
      ],
      "metadata": {
        "id": "ym2rZeIvgLIb"
      }
    },
    {
      "cell_type": "markdown",
      "source": [
        "Example: Solve $x^{3}-2x-5$ using Newton Raphson Method"
      ],
      "metadata": {
        "id": "Nnz3WdmugV7i"
      }
    },
    {
      "cell_type": "code",
      "source": [
        "from sympy import *\n",
        "import numpy\n",
        "x = Symbol('x')\n",
        "y = Function('y')('x')\n",
        "y = (x**3)-2*x-5\n",
        "dy = Derivative(y,x)\n",
        "a = 2\n",
        "r = 0\n",
        "flag = True\n",
        "while flag:\n",
        "    fa = float(y.subs({x:a}))\n",
        "    fd = float(dy.subs({x:a}))\n",
        "    b=a-(fa/fd)\n",
        "    if (round(b,4)==r):\n",
        "        flag = False\n",
        "        break\n",
        "    r = round(b,4)\n",
        "    a = b\n",
        "print(\"The root is\", round(b,5))"
      ],
      "metadata": {
        "colab": {
          "base_uri": "https://localhost:8080/"
        },
        "id": "oYUD22gxgVUx",
        "outputId": "cd33ef3d-8013-49ac-9142-78cf9dfbe43f"
      },
      "execution_count": null,
      "outputs": [
        {
          "output_type": "stream",
          "name": "stdout",
          "text": [
            "The root is 2.09455\n"
          ]
        }
      ]
    },
    {
      "cell_type": "markdown",
      "source": [
        "#**Experiment-2a**\n",
        "#### Interpolation for equal intervals using Newton's Forward Interpolation"
      ],
      "metadata": {
        "id": "WRLmFOXvgwk7"
      }
    },
    {
      "cell_type": "markdown",
      "source": [
        "Example: Find value of y at x=52 using Newton's Forward Interpolation formula for the given data: <br>\n",
        "<pre>\n",
        "x    45        50       55        60\n",
        "y    0.7071    0.766    0.8192    0.866\n",
        "</pre>"
      ],
      "metadata": {
        "id": "RZWWlIYahGYk"
      }
    },
    {
      "cell_type": "code",
      "source": [
        "from sympy import *\n",
        "def forward (x,y,xp):\n",
        "    t = [y]\n",
        "    n = len(y)\n",
        "    for i in range(1,n):\n",
        "        t_in = []\n",
        "        for j in range(n-i):\n",
        "            t_in.append(t[i-1][j+1]-t[i-1][j])\n",
        "        t.append(t_in)\n",
        "    for i in range (n):\n",
        "        print(x[i],end='\\t')\n",
        "        for j in range (n-i):\n",
        "            print(t[j][i], end = '\\t')\n",
        "        print('\\n')\n",
        "    s = y[0]\n",
        "    ncp = 1\n",
        "    p = (xp-x[0])/(x[1]-x[0])\n",
        "    for i in range (1,n):\n",
        "        ncp = ncp*(p-(i-1))/i\n",
        "        s = s+ncp*t[i][0]\n",
        "    print(\"The value of function at x =\",x1,\"is\",round(s,4))\n",
        "x = [45,50,55,60]\n",
        "y = [0.7071,0.766,0.8192,0.866]\n",
        "x1 = 52\n",
        "forward(x,y,x1)"
      ],
      "metadata": {
        "colab": {
          "base_uri": "https://localhost:8080/"
        },
        "id": "Ej2ButpyhxzU",
        "outputId": "003c0e9a-f67d-4685-8a9a-cfb9176d3110"
      },
      "execution_count": null,
      "outputs": [
        {
          "output_type": "stream",
          "name": "stdout",
          "text": [
            "45\t0.7071\t0.05890000000000006\t-0.005700000000000038\t-0.0007000000000000339\t\n",
            "\n",
            "50\t0.766\t0.053200000000000025\t-0.006400000000000072\t\n",
            "\n",
            "55\t0.8192\t0.04679999999999995\t\n",
            "\n",
            "60\t0.866\t\n",
            "\n",
            "The value of function at x = 52 is 0.788\n"
          ]
        }
      ]
    },
    {
      "cell_type": "markdown",
      "source": [
        "#**Experiment-2b**\n",
        "#### Interpolation for unequal intervals using Lagrange's Formula"
      ],
      "metadata": {
        "id": "FDlB8_3mnWoB"
      }
    },
    {
      "cell_type": "markdown",
      "source": [
        "Example: Use Lagrange's Interpolation formula to find f(301) for the given table:\n",
        "<pre>\n",
        "x    300       304       305       307\n",
        "y    2.4771    2.4829    2.4843    2.4871\n",
        "</pre>"
      ],
      "metadata": {
        "id": "KcvXqu0-oaCd"
      }
    },
    {
      "cell_type": "code",
      "source": [
        "def lagrange(xdata,ydata,xp):\n",
        "    from sympy.abc import x\n",
        "    n = len(xdata)\n",
        "    pts=[(xdata[i],ydata[i]) for i in range(n)]\n",
        "    s=0\n",
        "    for i in range(n):\n",
        "        p = 1\n",
        "        for j in range(n):\n",
        "            if j!=i:\n",
        "                p = p*(x-xdata[j])/(xdata[i]-xdata[j])\n",
        "        s=s+p*ydata[i]\n",
        "    print(\"The lagrange polynomial is\",s.expand())\n",
        "    print(\"The value of the function at\",xp,\"is\",float(s.subs(x,xp)))\n",
        "    return None\n",
        "lagrange([300,304,305,307],[2.4771,2.4829,2.4843,2.4871],301)"
      ],
      "metadata": {
        "colab": {
          "base_uri": "https://localhost:8080/"
        },
        "id": "TtA7vWZho6Ba",
        "outputId": "32b79aec-1f9f-4bc1-df36-251909e43c99"
      },
      "execution_count": null,
      "outputs": [
        {
          "output_type": "stream",
          "name": "stdout",
          "text": [
            "The lagrange polynomial is 1.42857142848563e-6*x**3 - 0.00130857142858076*x**2 + 0.400947142843506*x - 38.6070428565145\n",
            "The value of the function at 301 is 2.478597142857142\n"
          ]
        }
      ]
    },
    {
      "cell_type": "markdown",
      "source": [
        "#**Experiment-3**\n",
        "#### Numerical Integration\n",
        "#### Three important rules to carry out this integration process:\n",
        "\n",
        "\n",
        "1.   Trapezoidal rule: $\\int_{x_{0}}^{x_{n}}f(x)dx=\\frac{h}{2}[(y_{0}+y_{n})+2(y_{1}+y_{2}+ \\cdots +y_{n-1})]$\n",
        "2.   Simpson's $\\frac{1}{3}rd$ rule: $\\int_{x_{0}}^{x_{n}}f(x)dx=\\frac{h}{3}[(y_{0}+y_{n})+4(y_{1}+y_{3}+ \\cdots +y_{n-1})+2(y_{2}+y_{4}+ \\cdots +y_{n-2})]$\n",
        "3. Simpson's $\\frac{3}{8}th$ rule: $\\int_{x_{0}}^{x_{n}}f(x)dx=\\frac{3h}{8}[(y_{0}+y_{n})+3(y_{1}+y_{2}+ \\cdots +y_{n-1})+2(y_{3}+y_{6}+ \\cdots +y_{n-3})]$\n",
        "\n"
      ],
      "metadata": {
        "id": "x2KSuD2_piAy"
      }
    },
    {
      "cell_type": "markdown",
      "source": [
        "Example: Evaluate $\\int_{0}^{6}\\frac{1}{1+x^{2}}dx$ using Simpson's 1/3rd rule with n=6"
      ],
      "metadata": {
        "id": "xc6IPYOKlWF7"
      }
    },
    {
      "cell_type": "code",
      "source": [
        "#Simpson's 1/3rd formula\n",
        "from sympy.abc import x\n",
        "def Simpson13(y,l,u,n):\n",
        "    h=(u-l)/n\n",
        "    y0=y.subs(x,l)\n",
        "    yn=y.subs(x,u)\n",
        "    sum1=0\n",
        "    sum2=0\n",
        "    for i in range(1,n):\n",
        "        yi=y.subs(x,l+i*h)\n",
        "        if i%2==0:\n",
        "            sum1=sum1+yi\n",
        "        else:\n",
        "            sum2=sum2+yi\n",
        "    I=float((h/3)*(y0+yn+2*sum1+4*sum2))\n",
        "    print(\"The integral of \",y,\"is\",I)\n",
        "\n",
        "Simpson13(1/(1+x**2),0,6,6)"
      ],
      "metadata": {
        "colab": {
          "base_uri": "https://localhost:8080/"
        },
        "id": "nKvpTtXymwjG",
        "outputId": "bb77f940-3300-42ab-ebbf-59be33ea862e"
      },
      "execution_count": 1,
      "outputs": [
        {
          "output_type": "stream",
          "name": "stdout",
          "text": [
            "The integral of  1/(x**2 + 1) is 1.3661734132322367\n"
          ]
        }
      ]
    },
    {
      "cell_type": "markdown",
      "source": [
        "#**Experiment-4**\n",
        "#### Runge Kutta Fourth Order Method to solve differential equations numerically."
      ],
      "metadata": {
        "id": "GJ_GIuH6nLUW"
      }
    },
    {
      "cell_type": "markdown",
      "source": [
        "Example: Solve $\\frac{\\mathrm{d} y}{\\mathrm{d} x}=x^{2}+y$ with I.C $y(0)=1$ at $x=0.1$ given $h=0.05$"
      ],
      "metadata": {
        "id": "uNQE-PxvneY8"
      }
    },
    {
      "cell_type": "code",
      "source": [
        "def f(x,y):\n",
        "    return x**2+y\n",
        "def rungeKutte(x0,y0,x,h):\n",
        "    n = int((x-x0)/h)\n",
        "    y = y0\n",
        "    for i in range(1,n+1):\n",
        "        k1=h*f(x0,y)\n",
        "        k2=h*f(x0+0.5*h,y+0.5*k1)\n",
        "        k3=h*f(x0+0.5*h,y+0.5*k2)\n",
        "        k4=h*f(x0+h,y+k3)\n",
        "        y= y+(1/6)*(k1+2*k2+2*k3+k4)\n",
        "        x0=x0+h\n",
        "    return y\n",
        "x0=0\n",
        "y=1\n",
        "x=0.1\n",
        "h=0.05\n",
        "print(\"The value of y at\",x,\"is\",rungeKutte(x0,y,x,h))"
      ],
      "metadata": {
        "colab": {
          "base_uri": "https://localhost:8080/"
        },
        "id": "50ocudbxoBMI",
        "outputId": "9406a8a7-7674-43ef-af19-3b8bf7aac817"
      },
      "execution_count": 2,
      "outputs": [
        {
          "output_type": "stream",
          "name": "stdout",
          "text": [
            "The value of y at 0.1 is 1.1055127510175935\n"
          ]
        }
      ]
    },
    {
      "cell_type": "markdown",
      "source": [
        "#**Experiment-5**\n",
        "#### Finding the Fourier Series expansion of a function"
      ],
      "metadata": {
        "id": "Bh0kLbQZoVrQ"
      }
    },
    {
      "cell_type": "markdown",
      "source": [
        "Example: Find the Fourier series expansion of $f(x)=x^{2}$ defined over $(-\\pi,\\pi)$"
      ],
      "metadata": {
        "id": "AuMhjnVIow5o"
      }
    },
    {
      "cell_type": "code",
      "source": [
        "from sympy import *\n",
        "from sympy.abc import x\n",
        "s = fourier_series(x**2, (x, -pi, pi))\n",
        "s1 = s.truncate(n=4)\n",
        "print(s1)"
      ],
      "metadata": {
        "colab": {
          "base_uri": "https://localhost:8080/"
        },
        "id": "kSLLSRFto9-y",
        "outputId": "4af47489-aaa0-4cbf-9921-20163e9d3873"
      },
      "execution_count": 10,
      "outputs": [
        {
          "output_type": "stream",
          "name": "stdout",
          "text": [
            "-4*cos(x) + cos(2*x) - 4*cos(3*x)/9 + pi**2/3\n"
          ]
        }
      ]
    },
    {
      "cell_type": "markdown",
      "source": [
        "#**Experiment-6**\n",
        "#### Finding the Half Range Fourier Series expansion of a function"
      ],
      "metadata": {
        "id": "62EoofUeqGXm"
      }
    },
    {
      "cell_type": "markdown",
      "source": [
        "Example: Find the half range cosine and sine series of $f(x)=x$ in the interval $(0,2)$"
      ],
      "metadata": {
        "id": "8iK-RMtaqNNM"
      }
    },
    {
      "cell_type": "code",
      "source": [
        "from sympy import Piecewise as pw\n",
        "from sympy.abc import x\n",
        "from sympy import *\n",
        "\n",
        "def HRFS(f,L):\n",
        "  a=(x>=0)&(x<=L)\n",
        "  b=(x>=-L)&(x<0)\n",
        "  g=f.subs(x,-x)\n",
        "  fodd=pw((f,a),(-g,b))\n",
        "  feven=pw((f,a),(g,b))\n",
        "  fsin=pw.fourier_series(fodd,(x,-L,L))\n",
        "  print(\"The half range fourier sine series of the function\",f,\"is\")\n",
        "  pprint(fsin.truncate(n=4))\n",
        "  fcos=pw.fourier_series(feven,(x,-L,L))\n",
        "  print(\"The half range fourier cosine series of the function\",f,\"is\")\n",
        "  pprint(fcos.truncate(n=4))\n",
        "\n",
        "HRFS(x,2)"
      ],
      "metadata": {
        "colab": {
          "base_uri": "https://localhost:8080/"
        },
        "id": "KV7NU9eIqXu_",
        "outputId": "476445e3-4ce9-45f8-c94a-02cc7ff6d9f6"
      },
      "execution_count": 12,
      "outputs": [
        {
          "output_type": "stream",
          "name": "stdout",
          "text": [
            "The half range fourier sine series of the function x is\n",
            "     ⎛π⋅x⎞                     ⎛3⋅π⋅x⎞             \n",
            "4⋅sin⎜───⎟                4⋅sin⎜─────⎟             \n",
            "     ⎝ 2 ⎠   2⋅sin(π⋅x)        ⎝  2  ⎠   sin(2⋅π⋅x)\n",
            "────────── - ────────── + ──────────── - ──────────\n",
            "    π            π            3⋅π            π     \n",
            "The half range fourier cosine series of the function x is\n",
            "       ⎛π⋅x⎞        ⎛3⋅π⋅x⎞        ⎛5⋅π⋅x⎞    \n",
            "  8⋅cos⎜───⎟   8⋅cos⎜─────⎟   8⋅cos⎜─────⎟    \n",
            "       ⎝ 2 ⎠        ⎝  2  ⎠        ⎝  2  ⎠    \n",
            "- ────────── - ──────────── - ──────────── + 1\n",
            "       2              2              2        \n",
            "      π            9⋅π           25⋅π         \n"
          ]
        }
      ]
    },
    {
      "cell_type": "markdown",
      "source": [
        "#**Experiment-7**\n",
        "#### Convergence of series using D'Alembert's Ratio test, Raabe's test and Cauchy's root test."
      ],
      "metadata": {
        "id": "-9SPNx7Mr_dA"
      }
    },
    {
      "cell_type": "markdown",
      "source": [
        "Example: Check for the convergence of the series $\\frac{n^{2}(n+1)^{2}}{n!}$"
      ],
      "metadata": {
        "id": "oCtcurHRsWUn"
      }
    },
    {
      "cell_type": "code",
      "source": [
        "from math import *\n",
        "from numpy import *\n",
        "from sympy import *\n",
        "from sympy.abc import n\n",
        "\n",
        "def D(y,yy):\n",
        "    l=limit(yy/y,n,inf)\n",
        "    if l>1:\n",
        "        print(\"Divergent by D'Alembert\")\n",
        "    elif l<1:\n",
        "        print(\"Convergent by D'Alembert\")\n",
        "    else:\n",
        "        print (\"D'Alembert fails\")\n",
        "def R(y,yy):\n",
        "    l=limit((y/yy-1)*n,n,inf)\n",
        "    if l<1:\n",
        "        print(\"Divergent by Raabe\")\n",
        "    elif l>1:\n",
        "        print(\"Convergent by Raabe\")\n",
        "    else:\n",
        "        print (\"Raabe fails\")\n",
        "def C(y,yy):\n",
        "    l=limit(y**(1/n),n,inf)\n",
        "    if l>1:\n",
        "        print(\"Divergent by Cauchy\")\n",
        "    elif l<1:\n",
        "        print(\"Convergent by Cauchy\")\n",
        "    else:\n",
        "        print (\"Cauchy fails\")\n",
        "\n",
        "def Test(y,yy):\n",
        "    D(y,yy)\n",
        "    R(y,yy)\n",
        "    C(y,yy)\n",
        "\n",
        "y=((n**2)*(n+1)**2)/factorial(n)\n",
        "yy=y.subs({n:n+1}).doit()\n",
        "Test(y, yy)"
      ],
      "metadata": {
        "colab": {
          "base_uri": "https://localhost:8080/"
        },
        "id": "nRbqRgJusicU",
        "outputId": "9967e99b-cfda-45c5-d775-12d70c1d9a31"
      },
      "execution_count": 13,
      "outputs": [
        {
          "output_type": "stream",
          "name": "stdout",
          "text": [
            "Convergent by D'Alembert\n",
            "Convergent by Raabe\n",
            "Cauchy fails\n"
          ]
        }
      ]
    },
    {
      "cell_type": "markdown",
      "source": [
        "#**Experiment-8**\n",
        "#### Summation using exponential and logarithmic series"
      ],
      "metadata": {
        "id": "UApE73Ovs6N3"
      }
    },
    {
      "cell_type": "markdown",
      "source": [
        "Example: Find the sum to infinity for $\\frac{1^{3}}{1!}+\\frac{2^{3}}{2!}+\\frac{3^{3}}{3!}+\\cdots $"
      ],
      "metadata": {
        "id": "ItwXMr_SxctY"
      }
    },
    {
      "cell_type": "code",
      "source": [
        "from sympy import *\n",
        "from sympy.abc import n\n",
        "print(\"Sum to infinity of\")\n",
        "display(n**3/factorial(n))\n",
        "print(\"is: \")\n",
        "display(summation(n**3/factorial(n),(n,1,oo)))"
      ],
      "metadata": {
        "colab": {
          "base_uri": "https://localhost:8080/",
          "height": 110
        },
        "id": "pg2_0gXLxwVM",
        "outputId": "bbfcff9a-dbaf-4972-c176-ed70df69cc49"
      },
      "execution_count": 14,
      "outputs": [
        {
          "output_type": "stream",
          "name": "stdout",
          "text": [
            "Sum to infinity of\n"
          ]
        },
        {
          "output_type": "display_data",
          "data": {
            "text/plain": [
              "n**3/factorial(n)"
            ],
            "text/latex": "$\\displaystyle \\frac{n^{3}}{n!}$"
          },
          "metadata": {}
        },
        {
          "output_type": "stream",
          "name": "stdout",
          "text": [
            "is: \n"
          ]
        },
        {
          "output_type": "display_data",
          "data": {
            "text/plain": [
              "5*E"
            ],
            "text/latex": "$\\displaystyle 5 e$"
          },
          "metadata": {}
        }
      ]
    },
    {
      "cell_type": "markdown",
      "source": [
        "#**Experiment-9**\n",
        "#### Group Homomorphisms"
      ],
      "metadata": {
        "id": "Q-I1F-a1x-L6"
      }
    },
    {
      "cell_type": "markdown",
      "source": [
        "Example: Identify whether the function $f:(\\mathbb{Z}_{6}\\oplus_{6})\\rightarrow (\\mathbb{Z}_{12}\\oplus_{12})$ defined by $f(x)=2x$"
      ],
      "metadata": {
        "id": "d0dNfX1VyGHg"
      }
    },
    {
      "cell_type": "code",
      "source": [
        "from sympy import *\n",
        "def f(x):\n",
        "    return 2*x\n",
        "def addmod (a,b,n):\n",
        "    return(a+b)%n\n",
        "def multmod (a,b,n):\n",
        "    return(a*b)%n\n",
        "def is_homomorphism(G,op1,op2,n1,n2):\n",
        "    neg=[(a,b) for a in G\n",
        "               for b in G\n",
        "                if f(op1(a,b,n1))!= op2(f(a),f(b),n2)]\n",
        "    if neg:\n",
        "        print(\"Not a homomorphism\")\n",
        "    else:\n",
        "        print(\"Homomorphism\")\n",
        "\n",
        "is_homomorphism({0,1,2,3,4,5},addmod,addmod,6,12)"
      ],
      "metadata": {
        "colab": {
          "base_uri": "https://localhost:8080/"
        },
        "id": "LsKeIG5kynM8",
        "outputId": "860d165f-d5e0-477c-dc58-8f306ff3f6a4"
      },
      "execution_count": 15,
      "outputs": [
        {
          "output_type": "stream",
          "name": "stdout",
          "text": [
            "Homomorphism\n"
          ]
        }
      ]
    }
  ]
}