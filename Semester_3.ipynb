{
  "nbformat": 4,
  "nbformat_minor": 0,
  "metadata": {
    "colab": {
      "provenance": []
    },
    "kernelspec": {
      "name": "python3",
      "display_name": "Python 3"
    },
    "language_info": {
      "name": "python"
    }
  },
  "cells": [
    {
      "cell_type": "markdown",
      "source": [
        "#**Experiment-1**\n",
        "#### Checking whether the given sequence is convergent, divergent or oscillating.\n",
        "#### Definitions:\n",
        "\n",
        "1.   Limit of a sequence: A real number $l$ is said to be the limit of a sequence $\\{x_{n}\\}$ as n tends to infinity if $∀ ϵ>0,$ however small, $∃$ a positive integeer $m$ such that $|x_{n}-l|<ϵ, ∀n>m$. We can write $\\lim_{n\\rightarrow ∞}x_{n}=l$\n",
        "2.   Convergent sequence: A sequence $\\{x_{n}\\}$ is said to be convergent if the sequence tends to a finite quantity say $l$.\n",
        "3. Divergent sequence: A sequence $\\{x_{n}\\}$ is said to be divergent if the limit of the sequence is infinite.\n",
        "4. Oscillating sequence: A sequence $\\{x_{n}\\}$ is said to oscillate if the sequence neither tends to a unique finite limit not to infinity.\n",
        "\n"
      ],
      "metadata": {
        "id": "qflA_B-sDBcS"
      }
    },
    {
      "cell_type": "markdown",
      "source": [
        "Example: Check whether the sequence $\\{x_{n}\\}=\\{\\frac{3n+4}{2n+1}\\}$ is convergent, divergent or oscillating."
      ],
      "metadata": {
        "id": "znAOKLqLFCIv"
      }
    },
    {
      "cell_type": "code",
      "execution_count": 1,
      "metadata": {
        "id": "35Z0MwATirHN",
        "colab": {
          "base_uri": "https://localhost:8080/"
        },
        "outputId": "f60cccb2-78c5-4dc2-90a1-353c6298da4a"
      },
      "outputs": [
        {
          "output_type": "stream",
          "name": "stdout",
          "text": [
            "Convergent to 3/2\n"
          ]
        }
      ],
      "source": [
        "from sympy import *\n",
        "from sympy.abc import n\n",
        "l = limit_seq((3*n+4)/(2*n+1))\n",
        "if l == oo or l == -oo:\n",
        "    print(\"Drivergent to\",l)\n",
        "elif l.is_number:\n",
        "    print(\"Convergent to\",l)\n",
        "else:\n",
        "    print(\"Oscillatory \",l)"
      ]
    },
    {
      "cell_type": "markdown",
      "source": [
        "#**Experiment-2**\n",
        "#### Solving Homogeneous Linear Differential Equations with constant coefficients\n",
        "\n",
        "#### Facts:\n",
        "1.  General form of LDE with constant coefficients: $\\frac{\\mathrm{d}^{n} y}{\\mathrm{d} x^{n}}+a_{1}\\frac{\\mathrm{d}^{n-1} y}{\\mathrm{d} x^{n-1}}+⋯ + a_{n}y=X$\n",
        "2. General fom of Homogeneous LDE: $\\frac{\\mathrm{d}^{n} y}{\\mathrm{d} x^{n}}+a_{1}\\frac{\\mathrm{d}^{n-1} y}{\\mathrm{d} x^{n-1}}+⋯ + a_{n}y=0$\n",
        "3. The solution of DE involves $y=C.F+P.I$ where C.F - Complementtary Function and P.I - Particular Integral\n",
        "4. If we have a homogeneous LDE then there exists only C.F\n",
        "\n",
        "\n"
      ],
      "metadata": {
        "id": "gO7PLzywFwyq"
      }
    },
    {
      "cell_type": "markdown",
      "source": [
        "Solve the LDE $\\frac{\\mathrm{d}^{3} y}{\\mathrm{d} x^{3}}+6\\frac{\\mathrm{d}^{2} y}{\\mathrm{d} x^{2}}+11\\frac{\\mathrm{d} y}{\\mathrm{d} x}+6y=0$"
      ],
      "metadata": {
        "id": "wY-8JuhDIOYe"
      }
    },
    {
      "cell_type": "code",
      "source": [
        "from sympy import *\n",
        "x = Symbol('x')\n",
        "y = Function('y')(x)\n",
        "y1= y.diff(x)\n",
        "y2= y.diff(x,2)\n",
        "y3= y.diff(x,3)\n",
        "y4= y.diff(x,4)\n",
        "def hlde(de):\n",
        "    sl= dsolve(de)\n",
        "    print(\"y =\",sl.rhs)\n",
        "\n",
        "hlde(y3 + 6*y2 + 11*y1 + 6*y)"
      ],
      "metadata": {
        "colab": {
          "base_uri": "https://localhost:8080/"
        },
        "id": "Qs-g-P8vI5lY",
        "outputId": "6df573a1-bcab-4886-d691-6238cbf54b87"
      },
      "execution_count": 2,
      "outputs": [
        {
          "output_type": "stream",
          "name": "stdout",
          "text": [
            "y = (C1 + C2*exp(-2*x) + C3*exp(-x))*exp(-x)\n"
          ]
        }
      ]
    },
    {
      "cell_type": "markdown",
      "source": [
        "#**Experiment-3**\n",
        "#### Solving Non-Homogeneous Linear Differential Equations with constant coefficients\n",
        "#### Given $f(D)y=X$\n",
        "\n",
        "\n",
        "1.   When $X=e^{ax}$ : $P.I= e^{ax}\\frac{1}{f(a)}$\n",
        "2.   When $X=\\sin(ax) \\; or \\; \\cos(ax)$ : $P.I= \\frac{1}{f(D^{2}\\rightarrow -a^{2})}\\sin(ax) \\; or \\; \\cos(ax)$\n",
        "3.  When $X=x^{m}$ : $P.I= [1 \\pm ϕ(D)]^{-1}x^{m}$\n",
        "4. When $X=e^{ax}.V(x)$ : $P.I= e^{ax}[\\frac{1}{f(D+a)}.V(x)]$\n",
        "\n"
      ],
      "metadata": {
        "id": "SZta53BsK4fW"
      }
    },
    {
      "cell_type": "markdown",
      "source": [
        "Example: Solve the Non-homogeneous LDE $(D^{2}-6D+9)y=3e^{-4x}$"
      ],
      "metadata": {
        "id": "cXnyeoS3M6ju"
      }
    },
    {
      "cell_type": "code",
      "source": [
        "from sympy import *\n",
        "x = Symbol('x')\n",
        "y = Function('y')(x)\n",
        "y1= y.diff(x)\n",
        "y2= y.diff(x,2)\n",
        "y3= y.diff(x,3)\n",
        "def nhlde(de):\n",
        "    sl= dsolve(de)\n",
        "    print(\"y =\",sl.rhs)\n",
        "\n",
        "nhlde(y2 - 6*y1 + 9*y -3 *exp(-4*x))"
      ],
      "metadata": {
        "colab": {
          "base_uri": "https://localhost:8080/"
        },
        "id": "YFcUYId9NQTY",
        "outputId": "284f6920-82f5-4b3c-bda1-918a86ab1edf"
      },
      "execution_count": 3,
      "outputs": [
        {
          "output_type": "stream",
          "name": "stdout",
          "text": [
            "y = (C1 + C2*x)*exp(3*x) + 3*exp(-4*x)/49\n"
          ]
        }
      ]
    },
    {
      "cell_type": "markdown",
      "source": [
        "#**Experiment-4a**\n",
        "#### Solving Linear Differential Equations with variable coefficients when part of Complemetary Function is given"
      ],
      "metadata": {
        "id": "SDWJDgxQNi3D"
      }
    },
    {
      "cell_type": "markdown",
      "source": [
        "Example: Solve the LDE $\\frac{\\mathrm{d}^{2} y}{\\mathrm{d} x^{2}}-\\cot(x)\\frac{\\mathrm{d} y}{\\mathrm{d} x}-(1-\\cot(x))y=e^{x}\\sin(x)$"
      ],
      "metadata": {
        "id": "gqFPTUwtOX2P"
      }
    },
    {
      "cell_type": "code",
      "source": [
        "from sympy import *\n",
        "from sympy.abc import x,a\n",
        "v=Function('v')(x)\n",
        "IF=0\n",
        "def ldev(p,q,r):\n",
        "    if 1+p+q==0:\n",
        "        IF= exp(x)\n",
        "    elif 1-p+q==0:\n",
        "        IF= -exp(x)\n",
        "    elif a**2+a*p+q==0:\n",
        "        IF= exp(a*x)\n",
        "    elif expand(p+q*x)==0:\n",
        "        IF= x\n",
        "    elif expand(2+2*p*x+q*x**2)==0:\n",
        "        IF= x**2\n",
        "    if IF:\n",
        "        print(\"The integral of CF is =\",IF)\n",
        "        eqn= diff(v,x,2) + (p + (2/IF)*(diff(IF,x,1)))*diff(v,x,1) - (r/IF)\n",
        "        sol= dsolve(eqn)\n",
        "        print(\"y =\",sol.rhs*IF)\n",
        "    else:\n",
        "        print(\"There is no integral of CF\")\n",
        "\n",
        "ldev(-cot(x),cot(x)-1,exp(x)*sin(x))"
      ],
      "metadata": {
        "colab": {
          "base_uri": "https://localhost:8080/"
        },
        "id": "sjI3ts3rOz0L",
        "outputId": "cf291a60-e554-409c-9f1c-935d3f2a87df"
      },
      "execution_count": 5,
      "outputs": [
        {
          "output_type": "stream",
          "name": "stdout",
          "text": [
            "The integral of CF is = exp(x)\n",
            "y = (C1 - 2*C2*exp(-2*x)*sin(x)/5 - C2*exp(-2*x)*cos(x)/5 - cos(x)/2)*exp(x)\n"
          ]
        }
      ]
    },
    {
      "cell_type": "markdown",
      "source": [
        "#**Experiment-4b**\n",
        "#### Solving Linear Differential Equations with variable coefficients using Changing Independent Variable method."
      ],
      "metadata": {
        "id": "tmC4ON4QQ6I3"
      }
    },
    {
      "cell_type": "markdown",
      "source": [
        "Example: Solve the LDE $\\sin(x)^{2}y''+\\sin(x)\\cos(x)y'+4y=0$"
      ],
      "metadata": {
        "id": "jXDLwKrgTt9C"
      }
    },
    {
      "cell_type": "code",
      "source": [
        "from sympy import *\n",
        "from sympy.abc import x,a\n",
        "z = Function('z')(x)\n",
        "p = cot(x)\n",
        "q = 4/(sin(x))**2\n",
        "r = 0\n",
        "solz = dsolve((z.diff(x)**2)-q)[0].rhs\n",
        "solz = solz.subs('C1',0)\n",
        "z = Symbol('z')\n",
        "p1 = ((solz.diff(x,2)+p*solz.diff(x))/(solz.diff(x)**2)).simplify()\n",
        "p1 = p1.replace(solz,z)\n",
        "q1 = (q/(solz.diff(x)**2)).simplify()\n",
        "q1 = q1.replace(solz,z)\n",
        "r1 = (r/(solz.diff(x)**2)).simplify()\n",
        "r1 = r1.replace(solz,z)\n",
        "y = Function('y')(z)\n",
        "neq = y.diff(z,2)+p1*y.diff(z)+q1*y-r1\n",
        "sol = dsolve(neq,y).rhs\n",
        "print(sol.subs(z,solz))"
      ],
      "metadata": {
        "colab": {
          "base_uri": "https://localhost:8080/"
        },
        "id": "iQXD_w5hUBHb",
        "outputId": "244cc844-8fee-45b0-e252-ba420d39965c"
      },
      "execution_count": 7,
      "outputs": [
        {
          "output_type": "stream",
          "name": "stdout",
          "text": [
            "C1*sin(log(cos(x) - 1) - log(cos(x) + 1)) + C2*cos(log(cos(x) - 1) - log(cos(x) + 1))\n"
          ]
        }
      ]
    },
    {
      "cell_type": "markdown",
      "source": [
        "#**Experiment-5a**\n",
        "#### Solving Linear Differential Equations with variable coefficients using Changing Dependent Variable method."
      ],
      "metadata": {
        "id": "_77hK0gXVeI9"
      }
    },
    {
      "cell_type": "markdown",
      "source": [
        "Example: Solve $y''+-4xy+(4x^{2}-1)y=-3e^{x^{2}}\\sin(2x)$"
      ],
      "metadata": {
        "id": "cTiLz0I9VmrK"
      }
    },
    {
      "cell_type": "code",
      "source": [
        "from sympy import *\n",
        "from sympy.abc import x\n",
        "v = Function('v')(x)\n",
        "p = -4*x\n",
        "q = 4*x**2-1\n",
        "r = -3*exp(x**2)*sin(2*x)\n",
        "u = exp((-1/2)*integrate(p,x))\n",
        "I = q-((1/4)*(p**2))-((1/2)*p.diff(x))\n",
        "S = r/u\n",
        "if I.is_real:\n",
        "    I = int(I)\n",
        "eq = (v.diff(x,2)+I*v-S).simplify()\n",
        "sol = dsolve(eq,v).rhs\n",
        "display(u*sol)"
      ],
      "metadata": {
        "colab": {
          "base_uri": "https://localhost:8080/",
          "height": 41
        },
        "id": "LO6mh7VcV2Pu",
        "outputId": "18af4224-5f78-4881-f9f5-ac8d4764dc0f"
      },
      "execution_count": 8,
      "outputs": [
        {
          "output_type": "display_data",
          "data": {
            "text/plain": [
              "(C1*sin(x) + C2*cos(x) + sin(2*x))*exp(1.0*x**2)"
            ],
            "text/latex": "$\\displaystyle \\left(C_{1} \\sin{\\left(x \\right)} + C_{2} \\cos{\\left(x \\right)} + \\sin{\\left(2 x \\right)}\\right) e^{1.0 x^{2}}$"
          },
          "metadata": {}
        }
      ]
    },
    {
      "cell_type": "markdown",
      "source": [
        "#**Experiment-5b**\n",
        "#### Solving Linear Differential Equations with variable coefficients using Variation of Parameters method."
      ],
      "metadata": {
        "id": "BZZ4Cqd-Whyz"
      }
    },
    {
      "cell_type": "markdown",
      "source": [
        "Example: Solve $y''+4y=4\\tan(2x)$"
      ],
      "metadata": {
        "id": "C5ctCWLNWqC1"
      }
    },
    {
      "cell_type": "code",
      "source": [
        "from sympy import *\n",
        "x = Symbol('x')\n",
        "C1 = Symbol('C1')\n",
        "C2 = Symbol('C2')\n",
        "y = Function('y')(x)\n",
        "def VarOfPar(P,Q,R):\n",
        "    eq = y.diff(x,2)+P*y.diff(x)+Q*y-R\n",
        "    CF = dsolve(eq).rhs.expand()\n",
        "    u = CF.coeff(C1)\n",
        "    v = CF.coeff(C2)\n",
        "    W = wronskian([u,v],x).simplify()\n",
        "    f = -(v*R/W).integrate(x)\n",
        "    g = (u*R/W).integrate(x)\n",
        "    PI = (u*f+v*g).simplify()\n",
        "    sol = (CF+PI).simplify()\n",
        "    return sol\n",
        "\n",
        "VarOfPar(0,4,4*tan(2*x))"
      ],
      "metadata": {
        "colab": {
          "base_uri": "https://localhost:8080/",
          "height": 39
        },
        "id": "caHhvl1RW3ZQ",
        "outputId": "095b6e33-ea0a-4746-b52d-e7e63dd6ad15"
      },
      "execution_count": 9,
      "outputs": [
        {
          "output_type": "execute_result",
          "data": {
            "text/plain": [
              "C1*cos(2*x) + C2*sin(2*x) + log(sin(2*x) - 1)*cos(2*x) - log(sin(2*x) + 1)*cos(2*x)"
            ],
            "text/latex": "$\\displaystyle C_{1} \\cos{\\left(2 x \\right)} + C_{2} \\sin{\\left(2 x \\right)} + \\log{\\left(\\sin{\\left(2 x \\right)} - 1 \\right)} \\cos{\\left(2 x \\right)} - \\log{\\left(\\sin{\\left(2 x \\right)} + 1 \\right)} \\cos{\\left(2 x \\right)}$"
          },
          "metadata": {},
          "execution_count": 9
        }
      ]
    },
    {
      "cell_type": "markdown",
      "source": [
        "#**Experiment-6**\n",
        "#### Coset Decomposition"
      ],
      "metadata": {
        "id": "anfT3FpuXEWR"
      }
    },
    {
      "cell_type": "markdown",
      "source": [
        "Example: Let $G=(\\mathbb{Z}_{9},\\oplus_{9})$ and $H=\\{0,3,6\\}$. Find all the distinct cosets of $H$ in $G$"
      ],
      "metadata": {
        "id": "vrfUBcyGXPeE"
      }
    },
    {
      "cell_type": "code",
      "source": [
        "G={0,1,2,3,4,5,6,7,8}\n",
        "H={0,3,6}\n",
        "n=9\n",
        "F=[]\n",
        "x=len(G)\n",
        "for g in G:\n",
        "    c=[]\n",
        "    for h in H:\n",
        "        c.append((g+h)%n)\n",
        "    c.sort()\n",
        "    if c not in F:\n",
        "        F.append(c)\n",
        "print(F)"
      ],
      "metadata": {
        "colab": {
          "base_uri": "https://localhost:8080/"
        },
        "id": "hEf4Cb4TXxNw",
        "outputId": "85a8dae4-95f6-4bca-c197-6e5fd244cc59"
      },
      "execution_count": 10,
      "outputs": [
        {
          "output_type": "stream",
          "name": "stdout",
          "text": [
            "[[0, 3, 6], [1, 4, 7], [2, 5, 8]]\n"
          ]
        }
      ]
    },
    {
      "cell_type": "markdown",
      "source": [
        "#**Experiment-7a**\n",
        "#### Lagrange's Theorem\n",
        "\n",
        "\n",
        "> Lagrange's Theorem: If $G$ is a finit group and $H$ is a subgroup of $G$ then $O(H) \\mid O(G)$ and the number of distinct cosets of $H$ in $G$ equals $\\frac{O(G)}{O(H)}$\n",
        "\n"
      ],
      "metadata": {
        "id": "Mj7poTWjYS8l"
      }
    },
    {
      "cell_type": "markdown",
      "source": [
        "Example: Check whether the following subsets of the subgroup $(\\mathbb{Z}_{8},\\oplus_{8})$ are subgroups <br>\n",
        "$H_{1}=\\{0,1,2,4,6\\}$ <br>\n",
        "$H_{2}=\\{0,2,4,6\\}$ <br>\n",
        "$H_{3}=\\{1,2,4,7\\}$"
      ],
      "metadata": {
        "id": "IuFs9TXzZoVD"
      }
    },
    {
      "cell_type": "code",
      "source": [
        "def add_mod(a,b,n):\n",
        "    return(a+b)%n\n",
        "\n",
        "def Lagrange_Theorem(ordG,cardH):\n",
        "    if ordG%cardH==0:\n",
        "        return True\n",
        "    return False\n",
        "\n",
        "def Check_Closure(G,H,n):\n",
        "    Hy = {add_mod(a,b,n) for a in H for b in H}\n",
        "    if Hy==H:\n",
        "        return True\n",
        "    return False\n",
        "\n",
        "def Check_Subgroup(G,H,n):\n",
        "    if Lagrange_Theorem(len(G),len(H)):\n",
        "        if Check_Closure(G,H,n):\n",
        "            print(H,'is a subgroup of',G)\n",
        "        else:\n",
        "            print(\"Lagrange's Theorem is satisfied, but\",H,\"is not a subgroup of\",G)\n",
        "    else:\n",
        "        print(\"Lagrange's Theorem is not satisfied and \",H,\"is not a subgroup of\",G)\n",
        "\n",
        "G = {0,1,2,3,4,5,6,7}\n",
        "H1={0,1,2,4,6}\n",
        "H2 = {0,2,4,6}\n",
        "H3={1,2,4,7}\n",
        "\n",
        "Check_Subgroup(G,H1,8)\n",
        "Check_Subgroup(G,H2,8)\n",
        "Check_Subgroup(G,H3,8)"
      ],
      "metadata": {
        "colab": {
          "base_uri": "https://localhost:8080/"
        },
        "id": "4X48q7guaNc0",
        "outputId": "6fd38898-baa3-4d0d-beb2-cfa839181666"
      },
      "execution_count": 11,
      "outputs": [
        {
          "output_type": "stream",
          "name": "stdout",
          "text": [
            "Lagrange's Theorem is not satisfied and  {0, 1, 2, 4, 6} is not a subgroup of {0, 1, 2, 3, 4, 5, 6, 7}\n",
            "{0, 2, 4, 6} is a subgroup of {0, 1, 2, 3, 4, 5, 6, 7}\n",
            "Lagrange's Theorem is satisfied, but {1, 2, 4, 7} is not a subgroup of {0, 1, 2, 3, 4, 5, 6, 7}\n"
          ]
        }
      ]
    },
    {
      "cell_type": "markdown",
      "source": [
        "#**Experiment-7b**\n",
        "#### Fermat's Little Theorem\n",
        "\n",
        "\n",
        "> Fermat's Little Theorem: For every integer 'a' and every prime 'p' $a^{p}modp=a\\: modp$\n",
        "\n"
      ],
      "metadata": {
        "id": "8njVLrzubSvm"
      }
    },
    {
      "cell_type": "markdown",
      "source": [
        "Example: Verify Fermat's Little Theorem for a=2, p=3,5,7,11"
      ],
      "metadata": {
        "id": "w5ClapKMbwyf"
      }
    },
    {
      "cell_type": "code",
      "source": [
        "a=2\n",
        "n=100\n",
        "for i in range (1,n+1):\n",
        "    p = prime(i)\n",
        "    if a**p%p!=a%p:\n",
        "        print(\"Fermat's Little Theorem Fails for a =\",a,\"p =\",p)\n",
        "\n",
        "print(\"Fermats Little Theorem is satisfied for first\",n,\"primes for a =\",a)"
      ],
      "metadata": {
        "colab": {
          "base_uri": "https://localhost:8080/"
        },
        "id": "ytsAWaG6b7dG",
        "outputId": "76ae8c04-3922-4ed6-fe4c-0121f93e2a54"
      },
      "execution_count": 12,
      "outputs": [
        {
          "output_type": "stream",
          "name": "stdout",
          "text": [
            "Fermats Little Theorem is satisfied for first 100 primes for a = 2\n"
          ]
        }
      ]
    },
    {
      "cell_type": "markdown",
      "source": [
        "#**Experiment-8a**\n",
        "#### Laplace Transformation"
      ],
      "metadata": {
        "id": "S7JE4kb2cFMj"
      }
    },
    {
      "cell_type": "markdown",
      "source": [
        "Example: Find the Laplace Transform of $(1+t)^{3}$"
      ],
      "metadata": {
        "id": "wNDZPr6pc-CA"
      }
    },
    {
      "cell_type": "code",
      "source": [
        "from sympy import *\n",
        "from sympy.abc import t,s\n",
        "u=laplace_transform(simplify((1+t)**3),t,s,noconds=True)\n",
        "print(\"The Laplace transform of the given function is \",u)"
      ],
      "metadata": {
        "colab": {
          "base_uri": "https://localhost:8080/"
        },
        "id": "_A4GAfEVdHap",
        "outputId": "7ea85705-474f-4ff4-be33-e8f2278d1370"
      },
      "execution_count": 15,
      "outputs": [
        {
          "output_type": "stream",
          "name": "stdout",
          "text": [
            "The Laplace transform of the given function is  (-6*(s**3/6 + s**2/2 + s + 1)*exp(-s) + 6)*exp(-s)/s**4\n"
          ]
        }
      ]
    },
    {
      "cell_type": "markdown",
      "source": [
        "#**Experiment-8b**\n",
        "#### Inverse Laplace Transformation"
      ],
      "metadata": {
        "id": "DTfbZnpId8VD"
      }
    },
    {
      "cell_type": "markdown",
      "source": [
        "Example: Find Inverse Laplace Transform of $\\frac{1}{(s+3)^{3}}$"
      ],
      "metadata": {
        "id": "ODYUNYeBeDta"
      }
    },
    {
      "cell_type": "code",
      "source": [
        "from sympy import *\n",
        "from sympy.abc import t,s\n",
        "u=inverse_laplace_transform(simplify(1/(s+3)**3),s,t)\n",
        "print(\"The Inverse Laplace transform of the given function is \",u)"
      ],
      "metadata": {
        "colab": {
          "base_uri": "https://localhost:8080/"
        },
        "id": "jo1lXIW8eS5b",
        "outputId": "2a0dfcc4-cbca-4bc3-e6cc-c9dd840a2215"
      },
      "execution_count": 16,
      "outputs": [
        {
          "output_type": "stream",
          "name": "stdout",
          "text": [
            "The Inverse Laplace transform of the given function is  t**2*exp(-3*t)*Heaviside(t)/2\n"
          ]
        }
      ]
    }
  ]
}