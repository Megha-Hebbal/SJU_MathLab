{
  "metadata": {
    "kernelspec": {
      "name": "python",
      "display_name": "Python (Pyodide)",
      "language": "python"
    },
    "language_info": {
      "codemirror_mode": {
        "name": "python",
        "version": 3
      },
      "file_extension": ".py",
      "mimetype": "text/x-python",
      "name": "python",
      "nbconvert_exporter": "python",
      "pygments_lexer": "ipython3",
      "version": "3.8"
    },
    "colab": {
      "provenance": []
    }
  },
  "nbformat_minor": 0,
  "nbformat": 4,
  "cells": [
    {
      "cell_type": "code",
      "source": [
        "from sympy import *\n",
        "from sympy.abc import x,y,z"
      ],
      "metadata": {
        "trusted": true,
        "id": "1zZIxYpO0IeF"
      },
      "outputs": [],
      "execution_count": null
    },
    {
      "cell_type": "markdown",
      "source": [
        "**1. Matrices: Algebra of Matrices with problems.**"
      ],
      "metadata": {
        "id": "Uy8cZz3e0IeL"
      }
    },
    {
      "cell_type": "code",
      "source": [
        "A=Matrix([[2,3,-1],[4,1,3],[1,6,8]])\n",
        "I=Matrix.eye(3)\n",
        "\n",
        "print(\"A**2-3*A+I=\",A**2-3*A+I)\n",
        "\n",
        "print(\"The transpose of matrix\",A,\"is\",A.transpose())\n",
        "\n",
        "print(\"The trace of the matrix\",A,\"is\",A.trace())\n",
        "\n",
        "print(\"The determinant of the matrix\",A,\"is\",A.det())\n",
        "\n",
        "print(\"The inverse of the matrix\",A,\"is\",A.inv())"
      ],
      "metadata": {
        "trusted": true,
        "id": "LxM6wLoC0IeO",
        "outputId": "97f6a0c8-2a5d-456f-aafa-a2fb8846a997"
      },
      "outputs": [
        {
          "name": "stdout",
          "text": "A**2-3*A+I= Matrix([[10, -6, 2], [3, 29, 14], [31, 39, 58]])\nThe transpose of matrix Matrix([[2, 3, -1], [4, 1, 3], [1, 6, 8]]) is Matrix([[2, 4, 1], [3, 1, 6], [-1, 3, 8]])\nThe trace of the matrix Matrix([[2, 3, -1], [4, 1, 3], [1, 6, 8]]) is 11\nThe determinant of the matrix Matrix([[2, 3, -1], [4, 1, 3], [1, 6, 8]]) is -130\nThe inverse of the matrix Matrix([[2, 3, -1], [4, 1, 3], [1, 6, 8]]) is Matrix([[1/13, 3/13, -1/13], [29/130, -17/130, 1/13], [-23/130, 9/130, 1/13]])\n",
          "output_type": "stream"
        }
      ],
      "execution_count": null
    },
    {
      "cell_type": "markdown",
      "source": [
        "**2. Computation of rank of a matrix by row reduced echelon form and normal form.**"
      ],
      "metadata": {
        "id": "E1FtzskM0IeR"
      }
    },
    {
      "cell_type": "code",
      "source": [
        "A=Matrix([[1,3,-2],[2,-1,4],[1,-11,14]])\n",
        "B=A.rref()[0]\n",
        "B=B.transpose()\n",
        "B1=B.rref()[0]\n",
        "B1=B1.transpose()\n",
        "\n",
        "print(\"The row reduced echelon form of\",A,\"is\",B)\n",
        "\n",
        "print(\"The rank of\",A,\"is\",A.rank())\n",
        "\n",
        "print(\"The normal form of\",A,\"is\",B1)\n",
        "\n",
        "print(\"The rank of\",A,\"is\",B1.rank())"
      ],
      "metadata": {
        "trusted": true,
        "id": "BqAia4CB0IeS",
        "outputId": "eaf08e0f-224d-4685-d6e2-a748e12130e1"
      },
      "outputs": [
        {
          "name": "stdout",
          "text": "The row reduced echelon form of Matrix([[1, 3, -2], [2, -1, 4], [1, -11, 14]]) is Matrix([[1, 0, 0], [0, 1, 0], [10/7, -8/7, 0]])\nThe rank of Matrix([[1, 3, -2], [2, -1, 4], [1, -11, 14]]) is 2\nThe normal form of Matrix([[1, 3, -2], [2, -1, 4], [1, -11, 14]]) is Matrix([[1, 0, 0], [0, 1, 0], [0, 0, 0]])\nThe rank of Matrix([[1, 3, -2], [2, -1, 4], [1, -11, 14]]) is 2\n",
          "output_type": "stream"
        }
      ],
      "execution_count": null
    },
    {
      "cell_type": "markdown",
      "source": [
        "**3. Solving the system of homogeneous and non-homogeneous linear equations.**"
      ],
      "metadata": {
        "id": "c3tC_Pzf0IeT"
      }
    },
    {
      "cell_type": "code",
      "source": [
        "A=Matrix([[2,5,7],[1,1,1],[2,1,-1]])\n",
        "B=Matrix([[52],[9],[0]])\n",
        "X=Matrix([[x],[y],[z]])\n",
        "\n",
        "b=A.row_join(B)\n",
        "r=A.rank()\n",
        "q=b.rank()\n",
        "\n",
        "print(\"The rank of the matrix\",A,\"is\",r)\n",
        "print(\"The rank of the augmented matrix\",b,\"is\",q)\n",
        "\n",
        "D=A.shape\n",
        "n=D[1]\n",
        "\n",
        "if r==q:\n",
        "    print(\"The system of equations is consistent\")\n",
        "    if r<n:\n",
        "        print(\"The system of equations has infintley many solutions\")\n",
        "    else:\n",
        "        sol=solve(A*X-B)\n",
        "        print(\"The system of equations has a unique solution\",sol)\n",
        "else:\n",
        "    print(\"The system of equations is inconsistent\")"
      ],
      "metadata": {
        "trusted": true,
        "id": "LDpmEO9o0IeT",
        "outputId": "79e60a2d-dc61-4c11-ad03-e8cb31c0277a"
      },
      "outputs": [
        {
          "name": "stdout",
          "text": "The rank of the matrix Matrix([[2, 5, 7], [1, 1, 1], [2, 1, -1]]) is 3\nThe rank of the augmented matrix Matrix([[2, 5, 7, 52], [1, 1, 1, 9], [2, 1, -1, 0]]) is 3\nThe system of equations is consistent\nThe system of equations has a unique solution {x: 1, y: 3, z: 5}\n",
          "output_type": "stream"
        }
      ],
      "execution_count": null
    },
    {
      "cell_type": "markdown",
      "source": [
        "**4. Finding the nth derivatives of functions without Leibnitz theorem.**"
      ],
      "metadata": {
        "id": "EKhRqbCH0IeU"
      }
    },
    {
      "cell_type": "code",
      "source": [
        "pprint(diff(exp(x)*sin(3*x),x,3))"
      ],
      "metadata": {
        "trusted": true,
        "id": "ULTklYz60IeV",
        "outputId": "39045d0a-30ad-44c3-e4a3-430c1dcbc8e8"
      },
      "outputs": [
        {
          "name": "stdout",
          "text": "                               x\n-2⋅(13⋅sin(3⋅x) + 9⋅cos(3⋅x))⋅ℯ \n",
          "output_type": "stream"
        }
      ],
      "execution_count": null
    },
    {
      "cell_type": "markdown",
      "source": [
        "**5. Finding the nth derivatives of functions with Leibnitz theorem.**"
      ],
      "metadata": {
        "id": "EWeKeGBy0IeW"
      }
    },
    {
      "cell_type": "code",
      "source": [
        "u=x**3\n",
        "v=4**x\n",
        "n=3\n",
        "s=0\n",
        "\n",
        "for r in range(0,n+1):\n",
        "    F=factorial(n)/(factorial(n-r)*factorial(r))\n",
        "    du=diff(u,x,n-r)\n",
        "    dv=diff(v,x,r)\n",
        "    p=F*du*dv\n",
        "    s=s+p\n",
        "\n",
        "pprint(s)"
      ],
      "metadata": {
        "trusted": true,
        "id": "ZwtZHdMJ0IeW",
        "outputId": "2d4625fe-dc31-4bc8-99bb-754c11fd031b"
      },
      "outputs": [
        {
          "name": "stdout",
          "text": " x  3    3         x  2    2          x               x\n4 ⋅x ⋅log (4) + 9⋅4 ⋅x ⋅log (4) + 18⋅4 ⋅x⋅log(4) + 6⋅4 \n",
          "output_type": "stream"
        }
      ],
      "execution_count": null
    },
    {
      "cell_type": "markdown",
      "source": [
        "**6. Partial Differentiation of some standard functions.**"
      ],
      "metadata": {
        "id": "dC0oItt00IeW"
      }
    },
    {
      "cell_type": "code",
      "source": [
        "f=log(x*y)\n",
        "\n",
        "print(\"fx=\",f.diff(x))\n",
        "print(\"fy=\",f.diff(y))\n",
        "print(\"fxx=\",f.diff(x,2))\n",
        "print(\"fyy=\",f.diff(y,2))\n",
        "print(\"fxy=\",f.diff(x,y))\n",
        "print(\"fyx=\",f.diff(y,x))"
      ],
      "metadata": {
        "trusted": true,
        "id": "zX4PwvsD0IeX",
        "outputId": "990167fe-ac7d-4c89-cc5b-a0331956ccc3"
      },
      "outputs": [
        {
          "name": "stdout",
          "text": "fx= 1/x\nfy= 1/y\nfxx= -1/x**2\nfyy= -1/y**2\nfxy= 0\nfyx= 0\n",
          "output_type": "stream"
        }
      ],
      "execution_count": null
    },
    {
      "cell_type": "markdown",
      "source": [
        "**7. Indeterminate forms and evaluation of limits using L’Hospital’s rule.**"
      ],
      "metadata": {
        "id": "GaqKeXTP0IeX"
      }
    },
    {
      "cell_type": "code",
      "source": [
        "k=log(3*x)/(x**2)\n",
        "l=limit(k,x,oo)\n",
        "\n",
        "print(\"The limit of\",k,\"as x tends to infinity is\",l)"
      ],
      "metadata": {
        "trusted": true,
        "id": "mu2RKYJO0IeY",
        "outputId": "f7f97ad5-964e-4de9-c2db-7641f060736b"
      },
      "outputs": [
        {
          "name": "stdout",
          "text": "The limit of log(3*x)/x**2 as x tends to infinity is 0\n",
          "output_type": "stream"
        }
      ],
      "execution_count": null
    }
  ]
}